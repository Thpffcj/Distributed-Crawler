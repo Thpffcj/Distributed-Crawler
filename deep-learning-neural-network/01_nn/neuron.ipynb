{
 "cells": [
  {
   "cell_type": "code",
   "execution_count": 2,
   "metadata": {},
   "outputs": [
    {
     "name": "stdout",
     "output_type": "stream",
     "text": [
      "['data_batch_1', 'readme.html', 'batches.meta', 'data_batch_2', 'data_batch_5', 'test_batch', 'data_batch_4', 'data_batch_3']\n"
     ]
    }
   ],
   "source": [
    "import tensorflow as tf\n",
    "import os\n",
    "import pickle\n",
    "import numpy as np\n",
    "\n",
    "CIFAR_DIR = \"./../cifar-10-batches-py\"\n",
    "print(os.listdir(CIFAR_DIR))"
   ]
  },
  {
   "cell_type": "code",
   "execution_count": null,
   "metadata": {},
   "outputs": [],
   "source": [
    "def load_data(filename):\n",
    "    \"\"\"read data from data file.\"\"\"\n",
    "    with open(filename, 'rb') as f:\n",
    "        data = cPickle.load(f)\n",
    "        return data['data'], data['labels']\n",
    "\n",
    "    "
   ]
  },
  {
   "cell_type": "code",
   "execution_count": null,
   "metadata": {},
   "outputs": [],
   "source": [
    "x = tf.placeholder(tf.float32, [None, 3072])\n",
    "# [None]\n",
    "y = tf.placeholder(tf.int64, [None])\n",
    "\n",
    "# (3072, 1)\n",
    "w = tf.get_variable('w', [x.get_shape()[-1], 1],\n",
    "                   initializer=tf.random_normal_initializer(0, 1))\n",
    "# (1, )\n",
    "b = tf.get_variable('b', [1],\n",
    "                   initializer=tf.constant_initializer(0.0))\n",
    "\n",
    "# [None, 3072] * [3072, 1] = [None, 1]\n",
    "y_ = tf.matmul(x, w) + b\n",
    "\n",
    "# [None, 1]\n",
    "p_y_1 = tf.nn.sigmoid(y_)\n",
    "# [None, 1]\n",
    "y_reshaped = tf.reshape(y, (-1, 1))\n",
    "y_reshaped_float = tf.cast(y_reshaped, tf.float32)\n",
    "loss = tf.reduce_mean(tf.square(y_reshaped_float - p_y_1))\n",
    "\n",
    "# bool\n",
    "predict = p_y_1 > 0.5\n",
    "# [1,0,1,1,1,0,0,0]\n",
    "correct_prediction = tf.equal(tf.cast(predict, tf.int64), y_reshaped)\n",
    "accuracy = tf.reduce_mean(tf.cast(correct_prediction, tf.float64))"
   ]
  },
  {
   "cell_type": "code",
   "execution_count": null,
   "metadata": {},
   "outputs": [],
   "source": [
    "init = tf.global_variables_initializer()\n",
    "batch_size = 20\n",
    "train_steps = 100000\n",
    "test_steps = 100"
   ]
  }
 ],
 "metadata": {
  "kernelspec": {
   "display_name": "Python 3",
   "language": "python",
   "name": "python3"
  },
  "language_info": {
   "codemirror_mode": {
    "name": "ipython",
    "version": 3
   },
   "file_extension": ".py",
   "mimetype": "text/x-python",
   "name": "python",
   "nbconvert_exporter": "python",
   "pygments_lexer": "ipython3",
   "version": "3.5.6"
  }
 },
 "nbformat": 4,
 "nbformat_minor": 2
}
