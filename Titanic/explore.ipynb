{
 "cells": [
  {
   "cell_type": "markdown",
   "metadata": {},
   "source": [
    "# 1. 数据总览"
   ]
  },
  {
   "cell_type": "markdown",
   "metadata": {},
   "source": [
    "Titanic 生存模型预测，其中包含了两组数据：train.csv 和 test.csv，分别为训练集合和测试集合。"
   ]
  },
  {
   "cell_type": "code",
   "execution_count": 1,
   "metadata": {},
   "outputs": [],
   "source": [
    "import re\n",
    "import numpy as np\n",
    "import pandas as pd\n",
    "import matplotlib.pyplot as plt\n",
    "import seaborn as sns\n",
    "\n",
    "import warnings\n",
    "warnings.filterwarnings('ignore')\n",
    "\n",
    "%matplotlib inline"
   ]
  },
  {
   "cell_type": "code",
   "execution_count": 2,
   "metadata": {},
   "outputs": [
    {
     "name": "stdout",
     "output_type": "stream",
     "text": [
      "explore.ipynb test.csv      train.csv\r\n"
     ]
    }
   ],
   "source": [
    "!ls"
   ]
  },
  {
   "cell_type": "markdown",
   "metadata": {},
   "source": [
    "观察前几行源的数据："
   ]
  },
  {
   "cell_type": "code",
   "execution_count": 3,
   "metadata": {},
   "outputs": [
    {
     "data": {
      "text/html": [
       "<div>\n",
       "<style scoped>\n",
       "    .dataframe tbody tr th:only-of-type {\n",
       "        vertical-align: middle;\n",
       "    }\n",
       "\n",
       "    .dataframe tbody tr th {\n",
       "        vertical-align: top;\n",
       "    }\n",
       "\n",
       "    .dataframe thead th {\n",
       "        text-align: right;\n",
       "    }\n",
       "</style>\n",
       "<table border=\"1\" class=\"dataframe\">\n",
       "  <thead>\n",
       "    <tr style=\"text-align: right;\">\n",
       "      <th></th>\n",
       "      <th>PassengerId</th>\n",
       "      <th>Survived</th>\n",
       "      <th>Pclass</th>\n",
       "      <th>Name</th>\n",
       "      <th>Sex</th>\n",
       "      <th>Age</th>\n",
       "      <th>SibSp</th>\n",
       "      <th>Parch</th>\n",
       "      <th>Ticket</th>\n",
       "      <th>Fare</th>\n",
       "      <th>Cabin</th>\n",
       "      <th>Embarked</th>\n",
       "    </tr>\n",
       "  </thead>\n",
       "  <tbody>\n",
       "    <tr>\n",
       "      <th>0</th>\n",
       "      <td>1</td>\n",
       "      <td>0</td>\n",
       "      <td>3</td>\n",
       "      <td>Braund, Mr. Owen Harris</td>\n",
       "      <td>male</td>\n",
       "      <td>22.0</td>\n",
       "      <td>1</td>\n",
       "      <td>0</td>\n",
       "      <td>A/5 21171</td>\n",
       "      <td>7.2500</td>\n",
       "      <td>NaN</td>\n",
       "      <td>S</td>\n",
       "    </tr>\n",
       "    <tr>\n",
       "      <th>1</th>\n",
       "      <td>2</td>\n",
       "      <td>1</td>\n",
       "      <td>1</td>\n",
       "      <td>Cumings, Mrs. John Bradley (Florence Briggs Th...</td>\n",
       "      <td>female</td>\n",
       "      <td>38.0</td>\n",
       "      <td>1</td>\n",
       "      <td>0</td>\n",
       "      <td>PC 17599</td>\n",
       "      <td>71.2833</td>\n",
       "      <td>C85</td>\n",
       "      <td>C</td>\n",
       "    </tr>\n",
       "    <tr>\n",
       "      <th>2</th>\n",
       "      <td>3</td>\n",
       "      <td>1</td>\n",
       "      <td>3</td>\n",
       "      <td>Heikkinen, Miss. Laina</td>\n",
       "      <td>female</td>\n",
       "      <td>26.0</td>\n",
       "      <td>0</td>\n",
       "      <td>0</td>\n",
       "      <td>STON/O2. 3101282</td>\n",
       "      <td>7.9250</td>\n",
       "      <td>NaN</td>\n",
       "      <td>S</td>\n",
       "    </tr>\n",
       "    <tr>\n",
       "      <th>3</th>\n",
       "      <td>4</td>\n",
       "      <td>1</td>\n",
       "      <td>1</td>\n",
       "      <td>Futrelle, Mrs. Jacques Heath (Lily May Peel)</td>\n",
       "      <td>female</td>\n",
       "      <td>35.0</td>\n",
       "      <td>1</td>\n",
       "      <td>0</td>\n",
       "      <td>113803</td>\n",
       "      <td>53.1000</td>\n",
       "      <td>C123</td>\n",
       "      <td>S</td>\n",
       "    </tr>\n",
       "    <tr>\n",
       "      <th>4</th>\n",
       "      <td>5</td>\n",
       "      <td>0</td>\n",
       "      <td>3</td>\n",
       "      <td>Allen, Mr. William Henry</td>\n",
       "      <td>male</td>\n",
       "      <td>35.0</td>\n",
       "      <td>0</td>\n",
       "      <td>0</td>\n",
       "      <td>373450</td>\n",
       "      <td>8.0500</td>\n",
       "      <td>NaN</td>\n",
       "      <td>S</td>\n",
       "    </tr>\n",
       "  </tbody>\n",
       "</table>\n",
       "</div>"
      ],
      "text/plain": [
       "   PassengerId  Survived  Pclass  \\\n",
       "0            1         0       3   \n",
       "1            2         1       1   \n",
       "2            3         1       3   \n",
       "3            4         1       1   \n",
       "4            5         0       3   \n",
       "\n",
       "                                                Name     Sex   Age  SibSp  \\\n",
       "0                            Braund, Mr. Owen Harris    male  22.0      1   \n",
       "1  Cumings, Mrs. John Bradley (Florence Briggs Th...  female  38.0      1   \n",
       "2                             Heikkinen, Miss. Laina  female  26.0      0   \n",
       "3       Futrelle, Mrs. Jacques Heath (Lily May Peel)  female  35.0      1   \n",
       "4                           Allen, Mr. William Henry    male  35.0      0   \n",
       "\n",
       "   Parch            Ticket     Fare Cabin Embarked  \n",
       "0      0         A/5 21171   7.2500   NaN        S  \n",
       "1      0          PC 17599  71.2833   C85        C  \n",
       "2      0  STON/O2. 3101282   7.9250   NaN        S  \n",
       "3      0            113803  53.1000  C123        S  \n",
       "4      0            373450   8.0500   NaN        S  "
      ]
     },
     "execution_count": 3,
     "metadata": {},
     "output_type": "execute_result"
    }
   ],
   "source": [
    "train_data = pd.read_csv('train.csv')\n",
    "test_data = pd.read_csv('test.csv')\n",
    "\n",
    "sns.set_style('whitegrid')\n",
    "train_data.head()"
   ]
  },
  {
   "cell_type": "markdown",
   "metadata": {},
   "source": [
    "数据信息总览："
   ]
  },
  {
   "cell_type": "code",
   "execution_count": 4,
   "metadata": {},
   "outputs": [
    {
     "name": "stdout",
     "output_type": "stream",
     "text": [
      "<class 'pandas.core.frame.DataFrame'>\n",
      "RangeIndex: 891 entries, 0 to 890\n",
      "Data columns (total 12 columns):\n",
      "PassengerId    891 non-null int64\n",
      "Survived       891 non-null int64\n",
      "Pclass         891 non-null int64\n",
      "Name           891 non-null object\n",
      "Sex            891 non-null object\n",
      "Age            714 non-null float64\n",
      "SibSp          891 non-null int64\n",
      "Parch          891 non-null int64\n",
      "Ticket         891 non-null object\n",
      "Fare           891 non-null float64\n",
      "Cabin          204 non-null object\n",
      "Embarked       889 non-null object\n",
      "dtypes: float64(2), int64(5), object(5)\n",
      "memory usage: 83.6+ KB\n",
      "----------------------------------------\n",
      "<class 'pandas.core.frame.DataFrame'>\n",
      "RangeIndex: 418 entries, 0 to 417\n",
      "Data columns (total 11 columns):\n",
      "PassengerId    418 non-null int64\n",
      "Pclass         418 non-null int64\n",
      "Name           418 non-null object\n",
      "Sex            418 non-null object\n",
      "Age            332 non-null float64\n",
      "SibSp          418 non-null int64\n",
      "Parch          418 non-null int64\n",
      "Ticket         418 non-null object\n",
      "Fare           417 non-null float64\n",
      "Cabin          91 non-null object\n",
      "Embarked       418 non-null object\n",
      "dtypes: float64(2), int64(4), object(5)\n",
      "memory usage: 36.0+ KB\n"
     ]
    }
   ],
   "source": [
    "train_data.info()\n",
    "print(\"-\" * 40)\n",
    "test_data.info()"
   ]
  },
  {
   "cell_type": "markdown",
   "metadata": {},
   "source": [
    "从上面我们可以看出，Age、Cabin、Embarked、Fare几个特征存在缺失值。\n",
    "绘制存活的比例："
   ]
  },
  {
   "cell_type": "code",
   "execution_count": 5,
   "metadata": {},
   "outputs": [
    {
     "data": {
      "text/plain": [
       "<matplotlib.axes._subplots.AxesSubplot at 0x119d28320>"
      ]
     },
     "execution_count": 5,
     "metadata": {},
     "output_type": "execute_result"
    },
    {
     "data": {
      "image/png": "[encoded data removed]",
      "text/plain": [
       "<Figure size 432x288 with 1 Axes>"
      ]
     },
     "metadata": {},
     "output_type": "display_data"
    }
   ],
   "source": [
    "#labeldistance，文本的位置离远点有多远，1.1指1.1倍半径的位置\n",
    "#autopct，圆里面的文本格式，%3.1f%%表示小数有三位，整数有一位的浮点数\n",
    "#shadow，饼是否有阴影\n",
    "#startangle，起始角度，0，表示从0开始逆时针转，为第一块。一般选择从90度开始比较好看\n",
    "#pctdistance，百分比的text离圆心的距离\n",
    "#patches, l_texts, p_texts，为了得到饼图的返回值，p_texts饼图内部文本的，l_texts饼图外label的文本\n",
    "\n",
    "train_data['Survived'].value_counts().plot.pie(labeldistance = 1.1, autopct = '%1.2f%%',\n",
    "                                              shadow = False, startangle = 90, pctdistance = 0.6)"
   ]
  },
  {
   "cell_type": "markdown",
   "metadata": {},
   "source": [
    "# 2. 缺失值处理的方法"
   ]
  },
  {
   "cell_type": "markdown",
   "metadata": {},
   "source": [
    "对数据进行分析的时候要注意其中是否有缺失值。一些机器学习算法能够处理缺失值，比如神经网络，一些则不能。\n",
    "对于缺失值，一般有以下几种处理方法:\n",
    "  1. 如果数据集很多，但有很少的缺失值，可以删掉带缺失值的行。\n",
    "  2. 如果该属性相对学习来说不是很重要，可以对缺失值赋均值或者众数。\n",
    "  3. 对于标称属性，可以赋一个代表缺失的值，比如‘UO’。因为缺失本身也可能代表着一些隐含信息。比如船舱号Cabin这一属性，缺失可能代表并没有船舱。\n",
    " \n",
    "比如在哪儿上船Embarked这一属性（共有三个上船地点），缺失俩值，可以用众数赋值"
   ]
  },
  {
   "cell_type": "code",
   "execution_count": 6,
   "metadata": {},
   "outputs": [],
   "source": [
    "train_data.Embarked[train_data.Embarked.isnull()] = train_data.Embarked.dropna().mode().values\n",
    "#replace missing value with U0\n",
    "train_data['Cabin'] = train_data.Cabin.fillna('U0')\n",
    "#train_data.Cabin[train_data.CAbin.isnull()]='U0'"
   ]
  },
  {
   "cell_type": "markdown",
   "metadata": {},
   "source": [
    "4. 使用回归 随机森林等模型来预测缺失属性的值。因为Age在该数据集里是一个相当重要的特征（先对Age进行分析即可得知），所以保证一定的缺失值填充准确率是非常重要的，对结果也会产生较大影响。一般情况下，会使用数据完整的条目作为模型的训练集，以此来预测缺失值。对于当前的这个数据，可以使用随机森林来预测也可以使用线性回归预测。这里使用随机森林预测模型，选取数据集中的数值属性作为特征（因为sklearn的模型只能处理数值属性，所以这里先仅选取数值特征，但在实际的应用中需要将非数值特征转换为数值特征）"
   ]
  },
  {
   "cell_type": "code",
   "execution_count": 7,
   "metadata": {},
   "outputs": [
    {
     "name": "stdout",
     "output_type": "stream",
     "text": [
      "      Age  Survived      Fare  Parch  SibSp  Pclass\n",
      "0    22.0         0    7.2500      0      1       3\n",
      "1    38.0         1   71.2833      0      1       1\n",
      "2    26.0         1    7.9250      0      0       3\n",
      "3    35.0         1   53.1000      0      1       1\n",
      "4    35.0         0    8.0500      0      0       3\n",
      "6    54.0         0   51.8625      0      0       1\n",
      "7     2.0         0   21.0750      1      3       3\n",
      "8    27.0         1   11.1333      2      0       3\n",
      "9    14.0         1   30.0708      0      1       2\n",
      "10    4.0         1   16.7000      1      1       3\n",
      "11   58.0         1   26.5500      0      0       1\n",
      "12   20.0         0    8.0500      0      0       3\n",
      "13   39.0         0   31.2750      5      1       3\n",
      "14   14.0         0    7.8542      0      0       3\n",
      "15   55.0         1   16.0000      0      0       2\n",
      "16    2.0         0   29.1250      1      4       3\n",
      "18   31.0         0   18.0000      0      1       3\n",
      "20   35.0         0   26.0000      0      0       2\n",
      "21   34.0         1   13.0000      0      0       2\n",
      "22   15.0         1    8.0292      0      0       3\n",
      "23   28.0         1   35.5000      0      0       1\n",
      "24    8.0         0   21.0750      1      3       3\n",
      "25   38.0         1   31.3875      5      1       3\n",
      "27   19.0         0  263.0000      2      3       1\n",
      "30   40.0         0   27.7208      0      0       1\n",
      "33   66.0         0   10.5000      0      0       2\n",
      "34   28.0         0   82.1708      0      1       1\n",
      "35   42.0         0   52.0000      0      1       1\n",
      "37   21.0         0    8.0500      0      0       3\n",
      "38   18.0         0   18.0000      0      2       3\n",
      "..    ...       ...       ...    ...    ...     ...\n",
      "856  45.0         1  164.8667      1      1       1\n",
      "857  51.0         1   26.5500      0      0       1\n",
      "858  24.0         1   19.2583      3      0       3\n",
      "860  41.0         0   14.1083      0      2       3\n",
      "861  21.0         0   11.5000      0      1       2\n",
      "862  48.0         1   25.9292      0      0       1\n",
      "864  24.0         0   13.0000      0      0       2\n",
      "865  42.0         1   13.0000      0      0       2\n",
      "866  27.0         1   13.8583      0      1       2\n",
      "867  31.0         0   50.4958      0      0       1\n",
      "869   4.0         1   11.1333      1      1       3\n",
      "870  26.0         0    7.8958      0      0       3\n",
      "871  47.0         1   52.5542      1      1       1\n",
      "872  33.0         0    5.0000      0      0       1\n",
      "873  47.0         0    9.0000      0      0       3\n",
      "874  28.0         1   24.0000      0      1       2\n",
      "875  15.0         1    7.2250      0      0       3\n",
      "876  20.0         0    9.8458      0      0       3\n",
      "877  19.0         0    7.8958      0      0       3\n",
      "879  56.0         1   83.1583      1      0       1\n",
      "880  25.0         1   26.0000      1      0       2\n",
      "881  33.0         0    7.8958      0      0       3\n",
      "882  22.0         0   10.5167      0      0       3\n",
      "883  28.0         0   10.5000      0      0       2\n",
      "884  25.0         0    7.0500      0      0       3\n",
      "885  39.0         0   29.1250      5      0       3\n",
      "886  27.0         0   13.0000      0      0       2\n",
      "887  19.0         1   30.0000      0      0       1\n",
      "889  26.0         1   30.0000      0      0       1\n",
      "890  32.0         0    7.7500      0      0       3\n",
      "\n",
      "[714 rows x 6 columns]\n",
      "[[ 0.      7.25    0.      1.      3.    ]\n",
      " [ 1.     71.2833  0.      1.      1.    ]\n",
      " [ 1.      7.925   0.      0.      3.    ]\n",
      " ...\n",
      " [ 1.     30.      0.      0.      1.    ]\n",
      " [ 1.     30.      0.      0.      1.    ]\n",
      " [ 0.      7.75    0.      0.      3.    ]]\n",
      "[22.   38.   26.   35.   35.   54.    2.   27.   14.    4.   58.   20.\n",
      " 39.   14.   55.    2.   31.   35.   34.   15.   28.    8.   38.   19.\n",
      " 40.   66.   28.   42.   21.   18.   14.   40.   27.    3.   19.   18.\n",
      "  7.   21.   49.   29.   65.   21.   28.5   5.   11.   22.   38.   45.\n",
      "  4.   29.   19.   17.   26.   32.   16.   21.   26.   32.   25.    0.83\n",
      " 30.   22.   29.   28.   17.   33.   16.   23.   24.   29.   20.   46.\n",
      " 26.   59.   71.   23.   34.   34.   28.   21.   33.   37.   28.   21.\n",
      " 38.   47.   14.5  22.   20.   17.   21.   70.5  29.   24.    2.   21.\n",
      " 32.5  32.5  54.   12.   24.   45.   33.   20.   47.   29.   25.   23.\n",
      " 19.   37.   16.   24.   22.   24.   19.   18.   19.   27.    9.   36.5\n",
      " 42.   51.   22.   55.5  40.5  51.   16.   30.   44.   40.   26.   17.\n",
      "  1.    9.   45.   28.   61.    4.    1.   21.   56.   18.   50.   30.\n",
      " 36.    9.    1.    4.   45.   40.   36.   32.   19.   19.    3.   44.\n",
      " 58.   42.   24.   28.   34.   45.5  18.    2.   32.   26.   16.   40.\n",
      " 24.   35.   22.   30.   31.   27.   42.   32.   30.   16.   27.   51.\n",
      " 38.   22.   19.   20.5  18.   35.   29.   59.    5.   24.   44.    8.\n",
      " 19.   33.   29.   22.   30.   44.   25.   24.   37.   54.   29.   62.\n",
      " 30.   41.   29.   30.   35.   50.    3.   52.   40.   36.   16.   25.\n",
      " 58.   35.   25.   41.   37.   63.   45.    7.   35.   65.   28.   16.\n",
      " 19.   33.   30.   22.   42.   22.   26.   19.   36.   24.   24.   23.5\n",
      "  2.   50.   19.    0.92 17.   30.   30.   24.   18.   26.   28.   43.\n",
      " 26.   24.   54.   31.   40.   22.   27.   30.   22.   36.   61.   36.\n",
      " 31.   16.   45.5  38.   16.   29.   41.   45.   45.    2.   24.   28.\n",
      " 25.   36.   24.   40.    3.   42.   23.   15.   25.   28.   22.   38.\n",
      " 40.   29.   45.   35.   30.   60.   24.   25.   18.   19.   22.    3.\n",
      " 22.   27.   20.   19.   42.    1.   32.   35.   18.    1.   36.   17.\n",
      " 36.   21.   28.   23.   24.   22.   31.   46.   23.   28.   39.   26.\n",
      " 21.   28.   20.   34.   51.    3.   21.   33.   44.   34.   18.   30.\n",
      " 10.   21.   29.   28.   18.   28.   19.   32.   28.   42.   17.   50.\n",
      " 14.   21.   24.   64.   31.   45.   20.   25.   28.    4.   13.   34.\n",
      "  5.   52.   36.   30.   49.   29.   65.   50.   48.   34.   47.   48.\n",
      " 38.   56.    0.75 38.   33.   23.   22.   34.   29.   22.    2.    9.\n",
      " 50.   63.   25.   35.   58.   30.    9.   21.   55.   71.   21.   54.\n",
      " 25.   24.   17.   21.   37.   16.   18.   33.   28.   26.   29.   36.\n",
      " 54.   24.   47.   34.   36.   32.   30.   22.   44.   40.5  50.   39.\n",
      " 23.    2.   17.   30.    7.   45.   30.   22.   36.    9.   11.   32.\n",
      " 50.   64.   19.   33.    8.   17.   27.   22.   22.   62.   48.   39.\n",
      " 36.   40.   28.   24.   19.   29.   32.   62.   53.   36.   16.   19.\n",
      " 34.   39.   32.   25.   39.   54.   36.   18.   47.   60.   22.   35.\n",
      " 52.   47.   37.   36.   49.   49.   24.   44.   35.   36.   30.   27.\n",
      " 22.   40.   39.   35.   24.   34.   26.    4.   26.   27.   42.   20.\n",
      " 21.   21.   61.   57.   21.   26.   80.   51.   32.    9.   28.   32.\n",
      " 31.   41.   20.   24.    2.    0.75 48.   19.   56.   23.   18.   21.\n",
      " 18.   24.   32.   23.   58.   50.   40.   47.   36.   20.   32.   25.\n",
      " 43.   40.   31.   70.   31.   18.   24.5  18.   43.   36.   27.   20.\n",
      " 14.   60.   25.   14.   19.   18.   15.   31.    4.   25.   60.   52.\n",
      " 44.   49.   42.   18.   35.   18.   25.   26.   39.   45.   42.   22.\n",
      " 24.   48.   29.   52.   19.   38.   27.   33.    6.   17.   34.   50.\n",
      " 27.   20.   30.   25.   25.   29.   11.   23.   23.   28.5  48.   35.\n",
      " 36.   21.   24.   31.   70.   16.   30.   19.   31.    4.    6.   33.\n",
      " 23.   48.    0.67 28.   18.   34.   33.   41.   20.   36.   16.   51.\n",
      " 30.5  32.   24.   48.   57.   54.   18.    5.   43.   13.   17.   29.\n",
      " 25.   25.   18.    8.    1.   46.   16.   25.   39.   49.   31.   30.\n",
      " 30.   34.   31.   11.    0.42 27.   31.   39.   18.   39.   33.   26.\n",
      " 39.   35.    6.   30.5  23.   31.   43.   10.   52.   27.   38.   27.\n",
      "  2.    1.   62.   15.    0.83 23.   18.   39.   21.   32.   20.   16.\n",
      " 30.   34.5  17.   42.   35.   28.    4.   74.    9.   16.   44.   18.\n",
      " 45.   51.   24.   41.   21.   48.   24.   42.   27.   31.    4.   26.\n",
      " 47.   33.   47.   28.   15.   20.   19.   56.   25.   33.   22.   28.\n",
      " 25.   39.   27.   19.   26.   32.  ]\n"
     ]
    }
   ],
   "source": [
    "from sklearn.ensemble import RandomForestRegressor\n",
    "\n",
    "#choose training data to predict age\n",
    "age_df = train_data[['Age', 'Survived', 'Fare', 'Parch', 'SibSp', 'Pclass']]\n",
    "age_df_notnull = age_df.loc[(train_data['Age'].notnull())]\n",
    "age_df_isnull = age_df.loc[(train_data['Age'].isnull())]\n",
    "X = age_df_notnull.values[:, 1:]\n",
    "Y = age_df_notnull.values[:, 0]\n",
    "\n",
    "print(age_df_notnull)\n",
    "print(X)\n",
    "print(Y)\n",
    "\n",
    "# use RandomForestRegression to train data\n",
    "RFR = RandomForestRegressor(n_estimators=1000, n_jobs=-1)\n",
    "RFR.fit(X, Y)\n",
    "predictAges = RFR.predict(age_df_isnull.values[:, 1:])\n",
    "train_data.loc[train_data['Age'].isnull(), ['Age']] = predictAges\n",
    "\n"
   ]
  },
  {
   "cell_type": "markdown",
   "metadata": {},
   "source": [
    "让我们再来看一下缺失数据处理后的DataFram："
   ]
  },
  {
   "cell_type": "code",
   "execution_count": 8,
   "metadata": {},
   "outputs": [
    {
     "name": "stdout",
     "output_type": "stream",
     "text": [
      "<class 'pandas.core.frame.DataFrame'>\n",
      "RangeIndex: 891 entries, 0 to 890\n",
      "Data columns (total 12 columns):\n",
      "PassengerId    891 non-null int64\n",
      "Survived       891 non-null int64\n",
      "Pclass         891 non-null int64\n",
      "Name           891 non-null object\n",
      "Sex            891 non-null object\n",
      "Age            891 non-null float64\n",
      "SibSp          891 non-null int64\n",
      "Parch          891 non-null int64\n",
      "Ticket         891 non-null object\n",
      "Fare           891 non-null float64\n",
      "Cabin          891 non-null object\n",
      "Embarked       891 non-null object\n",
      "dtypes: float64(2), int64(5), object(5)\n",
      "memory usage: 83.6+ KB\n"
     ]
    }
   ],
   "source": [
    "train_data.info()"
   ]
  },
  {
   "cell_type": "markdown",
   "metadata": {},
   "source": [
    "# 3. 分析数据关系"
   ]
  },
  {
   "cell_type": "markdown",
   "metadata": {},
   "source": [
    "## 3.1 性别与是否生存的关系 Sex"
   ]
  },
  {
   "cell_type": "code",
   "execution_count": 9,
   "metadata": {},
   "outputs": [
    {
     "name": "stdout",
     "output_type": "stream",
     "text": [
      "Sex     Survived\n",
      "female  0            81\n",
      "        1           233\n",
      "male    0           468\n",
      "        1           109\n",
      "Name: Survived, dtype: int64\n"
     ]
    }
   ],
   "source": [
    "print(train_data.groupby(['Sex', 'Survived'])['Survived'].count())"
   ]
  },
  {
   "cell_type": "code",
   "execution_count": 10,
   "metadata": {},
   "outputs": [
    {
     "data": {
      "text/html": [
       "<div>\n",
       "<style scoped>\n",
       "    .dataframe tbody tr th:only-of-type {\n",
       "        vertical-align: middle;\n",
       "    }\n",
       "\n",
       "    .dataframe tbody tr th {\n",
       "        vertical-align: top;\n",
       "    }\n",
       "\n",
       "    .dataframe thead th {\n",
       "        text-align: right;\n",
       "    }\n",
       "</style>\n",
       "<table border=\"1\" class=\"dataframe\">\n",
       "  <thead>\n",
       "    <tr style=\"text-align: right;\">\n",
       "      <th></th>\n",
       "      <th>Survived</th>\n",
       "    </tr>\n",
       "    <tr>\n",
       "      <th>Sex</th>\n",
       "      <th></th>\n",
       "    </tr>\n",
       "  </thead>\n",
       "  <tbody>\n",
       "    <tr>\n",
       "      <th>female</th>\n",
       "      <td>0.742038</td>\n",
       "    </tr>\n",
       "    <tr>\n",
       "      <th>male</th>\n",
       "      <td>0.188908</td>\n",
       "    </tr>\n",
       "  </tbody>\n",
       "</table>\n",
       "</div>"
      ],
      "text/plain": [
       "        Survived\n",
       "Sex             \n",
       "female  0.742038\n",
       "male    0.188908"
      ]
     },
     "execution_count": 10,
     "metadata": {},
     "output_type": "execute_result"
    }
   ],
   "source": [
    "train_data[['Sex', 'Survived']].groupby(['Sex']).mean()"
   ]
  },
  {
   "cell_type": "code",
   "execution_count": 11,
   "metadata": {},
   "outputs": [
    {
     "data": {
      "text/plain": [
       "<matplotlib.axes._subplots.AxesSubplot at 0x107190668>"
      ]
     },
     "execution_count": 11,
     "metadata": {},
     "output_type": "execute_result"
    },
    {
     "data": {
      "image/png": "[encoded data removed]",
      "text/plain": [
       "<Figure size 432x288 with 1 Axes>"
      ]
     },
     "metadata": {},
     "output_type": "display_data"
    }
   ],
   "source": [
    "train_data[['Sex','Survived']].groupby(['Sex']).mean().plot.bar()"
   ]
  },
  {
   "cell_type": "markdown",
   "metadata": {},
   "source": [
    "以上为不同性别的生存率，可见在泰坦尼克号事故中，还是体现了Lady First."
   ]
  },
  {
   "cell_type": "markdown",
   "metadata": {},
   "source": [
    "## 3.2 船舱等级和生存与否的关系 Pclass"
   ]
  },
  {
   "cell_type": "code",
   "execution_count": 12,
   "metadata": {},
   "outputs": [
    {
     "name": "stdout",
     "output_type": "stream",
     "text": [
      "Pclass  Survived\n",
      "1       0            80\n",
      "        1           136\n",
      "2       0            97\n",
      "        1            87\n",
      "3       0           372\n",
      "        1           119\n",
      "Name: Survived, dtype: int64\n"
     ]
    }
   ],
   "source": [
    "print(train_data.groupby(['Pclass', 'Survived'])['Survived'].count())"
   ]
  },
  {
   "cell_type": "code",
   "execution_count": 13,
   "metadata": {},
   "outputs": [
    {
     "name": "stdout",
     "output_type": "stream",
     "text": [
      "        Survived\n",
      "Pclass          \n",
      "1       0.629630\n",
      "2       0.472826\n",
      "3       0.242363\n"
     ]
    }
   ],
   "source": [
    "print(train_data[['Pclass', 'Survived']].groupby(['Pclass']).mean())"
   ]
  },
  {
   "cell_type": "code",
   "execution_count": 14,
   "metadata": {},
   "outputs": [
    {
     "data": {
      "text/plain": [
       "<matplotlib.axes._subplots.AxesSubplot at 0x11d76b358>"
      ]
     },
     "execution_count": 14,
     "metadata": {},
     "output_type": "execute_result"
    },
    {
     "data": {
      "image/png": "[encoded data removed]",
      "text/plain": [
       "<Figure size 432x288 with 1 Axes>"
      ]
     },
     "metadata": {},
     "output_type": "display_data"
    }
   ],
   "source": [
    "train_data[['Pclass','Survived']].groupby(['Pclass']).mean().plot.bar()"
   ]
  },
  {
   "cell_type": "markdown",
   "metadata": {},
   "source": [
    "不同等级船舱的男女生存率："
   ]
  },
  {
   "cell_type": "code",
   "execution_count": 15,
   "metadata": {},
   "outputs": [
    {
     "data": {
      "text/plain": [
       "<matplotlib.axes._subplots.AxesSubplot at 0x11d7ac048>"
      ]
     },
     "execution_count": 15,
     "metadata": {},
     "output_type": "execute_result"
    },
    {
     "data": {
      "image/png": "[encoded data removed]",
      "text/plain": [
       "<Figure size 432x288 with 1 Axes>"
      ]
     },
     "metadata": {},
     "output_type": "display_data"
    }
   ],
   "source": [
    "train_data[['Sex', 'Pclass', 'Survived']].groupby(['Pclass', 'Sex']).mean().plot.bar()"
   ]
  },
  {
   "cell_type": "code",
   "execution_count": 16,
   "metadata": {},
   "outputs": [
    {
     "name": "stdout",
     "output_type": "stream",
     "text": [
      "Sex     Pclass  Survived\n",
      "female  1       0             3\n",
      "                1            91\n",
      "        2       0             6\n",
      "                1            70\n",
      "        3       0            72\n",
      "                1            72\n",
      "male    1       0            77\n",
      "                1            45\n",
      "        2       0            91\n",
      "                1            17\n",
      "        3       0           300\n",
      "                1            47\n",
      "Name: Survived, dtype: int64\n"
     ]
    }
   ],
   "source": [
    "print(train_data.groupby(['Sex','Pclass','Survived'])['Survived'].count())"
   ]
  },
  {
   "cell_type": "markdown",
   "metadata": {},
   "source": [
    "从图和表中可以看出，总体上泰坦尼克号逃生是妇女优先，但是对于不同等级的船舱还是有一定的区别。"
   ]
  },
  {
   "cell_type": "markdown",
   "metadata": {},
   "source": [
    "## 3.3 年龄与存活与否的关系 Age"
   ]
  },
  {
   "cell_type": "markdown",
   "metadata": {},
   "source": [
    "分别分析不同等级船舱和不同性别下的年龄分布和生存的关系："
   ]
  },
  {
   "cell_type": "code",
   "execution_count": 17,
   "metadata": {},
   "outputs": [
    {
     "data": {
      "image/png": "[encoded data removed]",
      "text/plain": [
       "<Figure size 1296x360 with 2 Axes>"
      ]
     },
     "metadata": {},
     "output_type": "display_data"
    }
   ],
   "source": [
    "fig, ax = plt.subplots(nrows=1, ncols=2, figsize = (18, 5))\n",
    "ax[0].set_yticks(range(0, 110, 10))\n",
    "sns.violinplot(\"Pclass\", \"Age\", hue = \"Survived\", data = train_data, split = True, ax = ax[0])\n",
    "ax[0].set_title('Pclass and Age vs Survived')\n",
    "\n",
    "ax[1].set_yticks(range(0, 110, 10))\n",
    "sns.violinplot(\"Sex\", \"Age\", hue = \"Survived\", data = train_data, split = True, ax = ax[1])\n",
    "ax[1].set_title('Sex and Age vs Survived')\n",
    "\n",
    "plt.show()"
   ]
  },
  {
   "cell_type": "markdown",
   "metadata": {},
   "source": [
    "分析总体的年龄分布"
   ]
  },
  {
   "cell_type": "code",
   "execution_count": 18,
   "metadata": {},
   "outputs": [
    {
     "data": {
      "image/png": "[encoded data removed]",
      "text/plain": [
       "<Figure size 1080x360 with 2 Axes>"
      ]
     },
     "metadata": {},
     "output_type": "display_data"
    }
   ],
   "source": [
    "plt.figure(figsize = (15, 5))\n",
    "plt.subplot(121)\n",
    "train_data['Age'].hist(bins = 100)\n",
    "plt.xlabel('Age')\n",
    "plt.ylabel('Num')\n",
    "\n",
    "plt.subplot(122)\n",
    "train_data.boxplot(column = 'Age', showfliers = False)\n",
    "plt.show()"
   ]
  },
  {
   "cell_type": "markdown",
   "metadata": {},
   "source": [
    "不同年龄下的生存和非生存的分布情况："
   ]
  },
  {
   "cell_type": "code",
   "execution_count": 19,
   "metadata": {},
   "outputs": [
    {
     "data": {
      "text/plain": [
       "<seaborn.axisgrid.FacetGrid at 0x11d85cdd8>"
      ]
     },
     "execution_count": 19,
     "metadata": {},
     "output_type": "execute_result"
    },
    {
     "data": {
      "image/png": "[encoded data removed]",
      "text/plain": [
       "<Figure size 915.875x216 with 1 Axes>"
      ]
     },
     "metadata": {},
     "output_type": "display_data"
    }
   ],
   "source": [
    "facet = sns.FacetGrid(train_data, hue=\"Survived\", aspect = 4)\n",
    "facet.map(sns.kdeplot, 'Age', shade = True)\n",
    "facet.set(xlim = (0, train_data['Age'].max()))\n",
    "facet.add_legend()"
   ]
  },
  {
   "cell_type": "markdown",
   "metadata": {},
   "source": [
    "不同年龄下的平均生存率："
   ]
  },
  {
   "cell_type": "code",
   "execution_count": 20,
   "metadata": {},
   "outputs": [
    {
     "data": {
      "text/plain": [
       "<matplotlib.axes._subplots.AxesSubplot at 0x11ded7240>"
      ]
     },
     "execution_count": 20,
     "metadata": {},
     "output_type": "execute_result"
    },
    {
     "data": {
      "image/png": "[encoded data removed]",
      "text/plain": [
       "<Figure size 1296x288 with 1 Axes>"
      ]
     },
     "metadata": {},
     "output_type": "display_data"
    }
   ],
   "source": [
    "# average survived passengers by age\n",
    "fig, axis1 = plt.subplots(1, 1, figsize = (18, 4))\n",
    "train_data['Age_int'] = train_data['Age'].astype(int)\n",
    "average_age = train_data[[\"Age_int\", \"Survived\"]].groupby(['Age_int'], as_index = False).mean()\n",
    "sns.barplot(x = 'Age_int', y = 'Survived', data = average_age)"
   ]
  },
  {
   "cell_type": "code",
   "execution_count": 21,
   "metadata": {},
   "outputs": [
    {
     "name": "stdout",
     "output_type": "stream",
     "text": [
      "count    891.000000\n",
      "mean      29.662700\n",
      "std       13.737216\n",
      "min        0.420000\n",
      "25%       21.000000\n",
      "50%       28.000000\n",
      "75%       37.000000\n",
      "max       80.000000\n",
      "Name: Age, dtype: float64\n"
     ]
    }
   ],
   "source": [
    "print(train_data['Age'].describe())"
   ]
  },
  {
   "cell_type": "markdown",
   "metadata": {},
   "source": [
    "样本有891，平均年龄约为30岁，标准差13.5岁，最小年龄0.42，最大年龄80.\n",
    "按照年龄，将乘客划分为儿童、少年、成年、老年，分析四个群体的生还情况："
   ]
  },
  {
   "cell_type": "code",
   "execution_count": 22,
   "metadata": {},
   "outputs": [
    {
     "name": "stdout",
     "output_type": "stream",
     "text": [
      "Age_group\n",
      "(0, 12]      0.506173\n",
      "(12, 18]     0.466667\n",
      "(18, 65]     0.364512\n",
      "(65, 100]    0.125000\n",
      "Name: Survived, dtype: float64\n"
     ]
    }
   ],
   "source": [
    "bins = [0, 12, 18, 65, 100]\n",
    "train_data['Age_group'] = pd.cut(train_data['Age'], bins)\n",
    "by_age = train_data.groupby('Age_group')['Survived'].mean()\n",
    "print(by_age)"
   ]
  },
  {
   "cell_type": "code",
   "execution_count": 23,
   "metadata": {},
   "outputs": [
    {
     "data": {
      "text/plain": [
       "<matplotlib.axes._subplots.AxesSubplot at 0x11e130e10>"
      ]
     },
     "execution_count": 23,
     "metadata": {},
     "output_type": "execute_result"
    },
    {
     "data": {
      "image/png": "[encoded data removed]",
      "text/plain": [
       "<Figure size 432x288 with 1 Axes>"
      ]
     },
     "metadata": {},
     "output_type": "display_data"
    }
   ],
   "source": [
    "by_age.plot(kind = 'bar')"
   ]
  },
  {
   "cell_type": "markdown",
   "metadata": {},
   "source": [
    "## 3.4 称呼与存活与否的关系 Name"
   ]
  },
  {
   "cell_type": "markdown",
   "metadata": {},
   "source": [
    "通过观察名字数据，我们可以看出其中包括对乘客的称呼，如：Mr、Miss、Mrs等，称呼信息包含了乘客的年龄、性别，同时也包含了入社会地位等的称呼，如：Dr，Lady，Major（少校），Master（硕士，主人，师傅）等的称呼。"
   ]
  },
  {
   "cell_type": "code",
   "execution_count": 24,
   "metadata": {},
   "outputs": [
    {
     "data": {
      "text/html": [
       "<div>\n",
       "<style scoped>\n",
       "    .dataframe tbody tr th:only-of-type {\n",
       "        vertical-align: middle;\n",
       "    }\n",
       "\n",
       "    .dataframe tbody tr th {\n",
       "        vertical-align: top;\n",
       "    }\n",
       "\n",
       "    .dataframe thead th {\n",
       "        text-align: right;\n",
       "    }\n",
       "</style>\n",
       "<table border=\"1\" class=\"dataframe\">\n",
       "  <thead>\n",
       "    <tr style=\"text-align: right;\">\n",
       "      <th>Sex</th>\n",
       "      <th>female</th>\n",
       "      <th>male</th>\n",
       "    </tr>\n",
       "    <tr>\n",
       "      <th>Title</th>\n",
       "      <th></th>\n",
       "      <th></th>\n",
       "    </tr>\n",
       "  </thead>\n",
       "  <tbody>\n",
       "    <tr>\n",
       "      <th>Capt</th>\n",
       "      <td>0</td>\n",
       "      <td>1</td>\n",
       "    </tr>\n",
       "    <tr>\n",
       "      <th>Col</th>\n",
       "      <td>0</td>\n",
       "      <td>2</td>\n",
       "    </tr>\n",
       "    <tr>\n",
       "      <th>Countess</th>\n",
       "      <td>1</td>\n",
       "      <td>0</td>\n",
       "    </tr>\n",
       "    <tr>\n",
       "      <th>Don</th>\n",
       "      <td>0</td>\n",
       "      <td>1</td>\n",
       "    </tr>\n",
       "    <tr>\n",
       "      <th>Dr</th>\n",
       "      <td>1</td>\n",
       "      <td>6</td>\n",
       "    </tr>\n",
       "    <tr>\n",
       "      <th>Jonkheer</th>\n",
       "      <td>0</td>\n",
       "      <td>1</td>\n",
       "    </tr>\n",
       "    <tr>\n",
       "      <th>Lady</th>\n",
       "      <td>1</td>\n",
       "      <td>0</td>\n",
       "    </tr>\n",
       "    <tr>\n",
       "      <th>Major</th>\n",
       "      <td>0</td>\n",
       "      <td>2</td>\n",
       "    </tr>\n",
       "    <tr>\n",
       "      <th>Master</th>\n",
       "      <td>0</td>\n",
       "      <td>40</td>\n",
       "    </tr>\n",
       "    <tr>\n",
       "      <th>Miss</th>\n",
       "      <td>182</td>\n",
       "      <td>0</td>\n",
       "    </tr>\n",
       "    <tr>\n",
       "      <th>Mlle</th>\n",
       "      <td>2</td>\n",
       "      <td>0</td>\n",
       "    </tr>\n",
       "    <tr>\n",
       "      <th>Mme</th>\n",
       "      <td>1</td>\n",
       "      <td>0</td>\n",
       "    </tr>\n",
       "    <tr>\n",
       "      <th>Mr</th>\n",
       "      <td>0</td>\n",
       "      <td>517</td>\n",
       "    </tr>\n",
       "    <tr>\n",
       "      <th>Mrs</th>\n",
       "      <td>125</td>\n",
       "      <td>0</td>\n",
       "    </tr>\n",
       "    <tr>\n",
       "      <th>Ms</th>\n",
       "      <td>1</td>\n",
       "      <td>0</td>\n",
       "    </tr>\n",
       "    <tr>\n",
       "      <th>Rev</th>\n",
       "      <td>0</td>\n",
       "      <td>6</td>\n",
       "    </tr>\n",
       "    <tr>\n",
       "      <th>Sir</th>\n",
       "      <td>0</td>\n",
       "      <td>1</td>\n",
       "    </tr>\n",
       "  </tbody>\n",
       "</table>\n",
       "</div>"
      ],
      "text/plain": [
       "Sex       female  male\n",
       "Title                 \n",
       "Capt           0     1\n",
       "Col            0     2\n",
       "Countess       1     0\n",
       "Don            0     1\n",
       "Dr             1     6\n",
       "Jonkheer       0     1\n",
       "Lady           1     0\n",
       "Major          0     2\n",
       "Master         0    40\n",
       "Miss         182     0\n",
       "Mlle           2     0\n",
       "Mme            1     0\n",
       "Mr             0   517\n",
       "Mrs          125     0\n",
       "Ms             1     0\n",
       "Rev            0     6\n",
       "Sir            0     1"
      ]
     },
     "execution_count": 24,
     "metadata": {},
     "output_type": "execute_result"
    }
   ],
   "source": [
    "train_data['Title'] = train_data['Name'].str.extract(' ([A-Za-z]+)\\.', expand = False)\n",
    "pd.crosstab(train_data['Title'], train_data['Sex'])\n",
    "\n"
   ]
  },
  {
   "cell_type": "markdown",
   "metadata": {},
   "source": [
    "观察不同称呼与生存率的关系："
   ]
  },
  {
   "cell_type": "code",
   "execution_count": 25,
   "metadata": {},
   "outputs": [
    {
     "data": {
      "text/plain": [
       "<matplotlib.axes._subplots.AxesSubplot at 0x11e1bbc18>"
      ]
     },
     "execution_count": 25,
     "metadata": {},
     "output_type": "execute_result"
    },
    {
     "data": {
      "image/png": "[encoded data removed]",
      "text/plain": [
       "<Figure size 432x288 with 1 Axes>"
      ]
     },
     "metadata": {},
     "output_type": "display_data"
    }
   ],
   "source": [
    "train_data[['Title', 'Survived']].groupby(['Title']).mean().plot.bar()"
   ]
  },
  {
   "cell_type": "markdown",
   "metadata": {},
   "source": [
    "同时，对于名字，我们还可以观察名字长度和生存率之间存在关系的可能："
   ]
  },
  {
   "cell_type": "code",
   "execution_count": 26,
   "metadata": {
    "scrolled": true
   },
   "outputs": [
    {
     "data": {
      "text/plain": [
       "<matplotlib.axes._subplots.AxesSubplot at 0x11e3b2e80>"
      ]
     },
     "execution_count": 26,
     "metadata": {},
     "output_type": "execute_result"
    },
    {
     "data": {
      "image/png": "[encoded data removed]",
      "text/plain": [
       "<Figure size 1296x288 with 1 Axes>"
      ]
     },
     "metadata": {},
     "output_type": "display_data"
    }
   ],
   "source": [
    "fig, axis1 = plt.subplots(1, 1, figsize = (18, 4))\n",
    "train_data['Name_length'] = train_data['Name'].apply(len)\n",
    "name_length = train_data[['Name_length', 'Survived']].groupby(['Name_length'], as_index = False).mean()\n",
    "sns.barplot(x = 'Name_length', y = 'Survived', data = name_length)\n"
   ]
  },
  {
   "cell_type": "markdown",
   "metadata": {},
   "source": [
    "从上面的图片可以看出，名字长度和生存与否确实也存在一定的相关性."
   ]
  },
  {
   "cell_type": "markdown",
   "metadata": {},
   "source": [
    "## 3.5 有无兄弟姐妹和存活与否的关系 SibSp"
   ]
  },
  {
   "cell_type": "code",
   "execution_count": 27,
   "metadata": {},
   "outputs": [
    {
     "data": {
      "image/png": "[encoded data removed]",
      "text/plain": [
       "<Figure size 792x360 with 2 Axes>"
      ]
     },
     "metadata": {},
     "output_type": "display_data"
    }
   ],
   "source": [
    "#将数据分为有兄弟姐妹和没有兄弟姐妹的两组：\n",
    "sibsp_df = train_data[train_data['SibSp'] != 0]\n",
    "no_sibsp_df = train_data[train_data['SibSp'] == 0]\n",
    "\n",
    "plt.figure(figsize = (11, 5))\n",
    "plt.subplot(121)\n",
    "sibsp_df['Survived'].value_counts().plot.pie(labels = ['No Survived', 'Survived'], autopct = '%1.1f%%')\n",
    "plt.xlabel('sibsp')\n",
    "\n",
    "plt.subplot(122)\n",
    "no_sibsp_df['Survived'].value_counts().plot.pie(labels = ['No Survived', 'Survived'], autopct = '%1.1f%%')\n",
    "plt.xlabel('no_sibsp')\n",
    "\n",
    "plt.show()\n"
   ]
  },
  {
   "cell_type": "markdown",
   "metadata": {},
   "source": [
    "## 3.6 有无父母子女和存活与否的关系 Parch"
   ]
  },
  {
   "cell_type": "markdown",
   "metadata": {},
   "source": [
    "和有无兄弟姐妹一样，同样分析可以得到："
   ]
  },
  {
   "cell_type": "code",
   "execution_count": 28,
   "metadata": {},
   "outputs": [
    {
     "data": {
      "image/png": "[encoded data removed]",
      "text/plain": [
       "<Figure size 792x360 with 2 Axes>"
      ]
     },
     "metadata": {},
     "output_type": "display_data"
    }
   ],
   "source": [
    "parch_df = train_data[train_data['Parch'] != 0]  \n",
    "no_parch_df = train_data[train_data['Parch'] == 0]  \n",
    " \n",
    "plt.figure(figsize=(11,5))  \n",
    "plt.subplot(121)  \n",
    "parch_df['Survived'].value_counts().plot.pie(labels=['No Survived', 'Survived'], autopct= '%1.2f%%')  \n",
    "plt.xlabel('parch')  \n",
    " \n",
    "plt.subplot(122)  \n",
    "no_parch_df['Survived'].value_counts().plot.pie(labels=['No Survived', 'Survived'], autopct = '%1.2f%%')  \n",
    "plt.xlabel('no_parch') \n",
    " \n",
    "plt.show()  "
   ]
  },
  {
   "cell_type": "markdown",
   "metadata": {},
   "source": [
    "## 3.7 亲友的人数和存活与否的关系 SibSp & Parch"
   ]
  },
  {
   "cell_type": "code",
   "execution_count": 29,
   "metadata": {},
   "outputs": [
    {
     "data": {
      "text/plain": [
       "Text(0.5, 1.0, 'SibSp and Survived')"
      ]
     },
     "execution_count": 29,
     "metadata": {},
     "output_type": "execute_result"
    },
    {
     "data": {
      "image/png": "[encoded data removed]",
      "text/plain": [
       "<Figure size 1080x360 with 2 Axes>"
      ]
     },
     "metadata": {},
     "output_type": "display_data"
    }
   ],
   "source": [
    "fig, ax = plt.subplots(1, 2, figsize = (15, 5))\n",
    "train_data[['Parch', 'Survived']].groupby(['Parch']).mean().plot.bar(ax = ax[0])\n",
    "ax[0].set_title('Parch and Survived')\n",
    "\n",
    "train_data[['SibSp', 'Survived']].groupby(['SibSp']).mean().plot.bar(ax = ax[1])\n",
    "ax[1].set_title('SibSp and Survived')\n"
   ]
  },
  {
   "cell_type": "code",
   "execution_count": 30,
   "metadata": {},
   "outputs": [
    {
     "data": {
      "text/plain": [
       "<matplotlib.axes._subplots.AxesSubplot at 0x11dd0c5c0>"
      ]
     },
     "execution_count": 30,
     "metadata": {},
     "output_type": "execute_result"
    },
    {
     "data": {
      "image/png": "[encoded data removed]",
      "text/plain": [
       "<Figure size 432x288 with 1 Axes>"
      ]
     },
     "metadata": {},
     "output_type": "display_data"
    }
   ],
   "source": [
    "train_data['Family_Size'] = train_data['Parch'] + train_data['SibSp'] + 1\n",
    "train_data[['Family_Size', 'Survived']].groupby(['Family_Size']).mean().plot.bar()"
   ]
  },
  {
   "cell_type": "markdown",
   "metadata": {},
   "source": [
    "从图表中可以看出，若独自一人，那么其存活率比较低；但是如果亲友太多的话，存活率也会很低。"
   ]
  },
  {
   "cell_type": "markdown",
   "metadata": {},
   "source": [
    "## 3.8 票价分布和存活与否的关系 Fare"
   ]
  },
  {
   "cell_type": "markdown",
   "metadata": {},
   "source": [
    "首先绘制票价的分布情况："
   ]
  },
  {
   "cell_type": "code",
   "execution_count": 31,
   "metadata": {},
   "outputs": [
    {
     "data": {
      "image/png": "[encoded data removed]",
      "text/plain": [
       "<Figure size 720x360 with 1 Axes>"
      ]
     },
     "metadata": {},
     "output_type": "display_data"
    },
    {
     "data": {
      "image/png": "[encoded data removed]",
      "text/plain": [
       "<Figure size 432x288 with 1 Axes>"
      ]
     },
     "metadata": {},
     "output_type": "display_data"
    }
   ],
   "source": [
    "plt.figure(figsize = (10, 5))\n",
    "train_data['Fare'].hist(bins = 70)\n",
    "\n",
    "train_data.boxplot(column = 'Fare', by = 'Pclass', showfliers = False)\n",
    "plt.show()\n"
   ]
  },
  {
   "cell_type": "code",
   "execution_count": 32,
   "metadata": {},
   "outputs": [
    {
     "name": "stdout",
     "output_type": "stream",
     "text": [
      "count    891.000000\n",
      "mean      32.204208\n",
      "std       49.693429\n",
      "min        0.000000\n",
      "25%        7.910400\n",
      "50%       14.454200\n",
      "75%       31.000000\n",
      "max      512.329200\n",
      "Name: Fare, dtype: float64\n"
     ]
    }
   ],
   "source": [
    "print(train_data['Fare'].describe())"
   ]
  },
  {
   "cell_type": "markdown",
   "metadata": {},
   "source": [
    "绘制生存与否与票价均值和方差的关系："
   ]
  },
  {
   "cell_type": "code",
   "execution_count": 33,
   "metadata": {},
   "outputs": [
    {
     "data": {
      "image/png": "[encoded data removed]",
      "text/plain": [
       "<Figure size 432x288 with 1 Axes>"
      ]
     },
     "metadata": {},
     "output_type": "display_data"
    }
   ],
   "source": [
    "fare_not_survived = train_data['Fare'][train_data['Survived'] == 0]\n",
    "fare_survived = train_data['Fare'][train_data['Survived'] == 1]\n",
    "\n",
    "average_fare = pd.DataFrame([fare_not_survived.mean(), fare_survived.mean()])\n",
    "std_fare = pd.DataFrame([fare_not_survived.std(), fare_survived.std()])\n",
    "average_fare.plot(yerr = std_fare, kind = 'bar', legend = False)\n",
    "\n",
    "plt.show()\n"
   ]
  },
  {
   "cell_type": "markdown",
   "metadata": {},
   "source": [
    "由上图表可知，票价与是否生还有一定的相关性，生还者的平均票价要大于未生还者的平均票价。"
   ]
  },
  {
   "cell_type": "markdown",
   "metadata": {},
   "source": [
    "## 3.9 船舱类型和存活与否的关系 Cabin"
   ]
  },
  {
   "cell_type": "markdown",
   "metadata": {},
   "source": [
    "由于船舱的缺失值确实太多，有效值仅仅有204个，很难分析出不同的船舱和存活的关系，所以在做特征工程的时候，可以直接将该组特征丢弃掉。 当然，这里我们也可以对其进行一下分析，对于缺失的数据都分为一类。 简单地将数据分为是否有Cabin记录作为特征，与生存与否进行分析："
   ]
  },
  {
   "cell_type": "code",
   "execution_count": 34,
   "metadata": {},
   "outputs": [
    {
     "data": {
      "text/plain": [
       "<matplotlib.axes._subplots.AxesSubplot at 0x11e88f978>"
      ]
     },
     "execution_count": 34,
     "metadata": {},
     "output_type": "execute_result"
    },
    {
     "data": {
      "image/png": "[encoded data removed]",
      "text/plain": [
       "<Figure size 432x288 with 1 Axes>"
      ]
     },
     "metadata": {},
     "output_type": "display_data"
    }
   ],
   "source": [
    "# Replace missing values with \"U0\"\n",
    "train_data.loc[train_data.Cabin.isnull(),'Cabin'] = 'U0'\n",
    "train_data['Has_Cabin'] = train_data['Cabin'].apply(lambda x: 0 if x == 'U0' else 1)\n",
    "train_data[['Has_Cabin','Survived']].groupby(['Has_Cabin']).mean().plot.bar()"
   ]
  },
  {
   "cell_type": "markdown",
   "metadata": {},
   "source": [
    "对不同类型的船舱进行分析："
   ]
  },
  {
   "cell_type": "code",
   "execution_count": 35,
   "metadata": {},
   "outputs": [
    {
     "data": {
      "text/plain": [
       "<matplotlib.axes._subplots.AxesSubplot at 0x11eb4f160>"
      ]
     },
     "execution_count": 35,
     "metadata": {},
     "output_type": "execute_result"
    },
    {
     "data": {
      "image/png": "[encoded data removed]",
      "text/plain": [
       "<Figure size 432x288 with 1 Axes>"
      ]
     },
     "metadata": {},
     "output_type": "display_data"
    }
   ],
   "source": [
    "# create feature for the alphabetical part of the cabin number\n",
    "train_data['CabinLetter'] = train_data['Cabin'].map(lambda x: re.compile(\"([a-zA-Z]+)\").search(x).group())\n",
    "# convert the distinct cabin letters with incremental integer values\n",
    "train_data['CabinLetter'] = pd.factorize(train_data['CabinLetter'])[0]\n",
    "train_data[['CabinLetter','Survived']].groupby(['CabinLetter']).mean().plot.bar()"
   ]
  },
  {
   "cell_type": "markdown",
   "metadata": {},
   "source": [
    "可见，不同的船舱生存率也有不同，但是差别不是很大。所以在处理中，我们可以直接将特征删除。"
   ]
  },
  {
   "cell_type": "markdown",
   "metadata": {},
   "source": [
    "## 3.10 港口和存活与否的关系 Embarked"
   ]
  },
  {
   "cell_type": "markdown",
   "metadata": {},
   "source": [
    "泰坦尼克号从英国的南安普顿港出发，途径法国瑟堡和爱尔兰昆士敦，那么在昆士敦之前上船的人，有可能在瑟堡或昆士敦下船，这些人将不会遇到海难。"
   ]
  },
  {
   "cell_type": "code",
   "execution_count": 36,
   "metadata": {},
   "outputs": [
    {
     "data": {
      "text/plain": [
       "Text(0.5, 1.0, 'Embarked and Survived')"
      ]
     },
     "execution_count": 36,
     "metadata": {},
     "output_type": "execute_result"
    },
    {
     "data": {
      "image/png": "[encoded data removed]",
      "text/plain": [
       "<Figure size 432x288 with 1 Axes>"
      ]
     },
     "metadata": {},
     "output_type": "display_data"
    }
   ],
   "source": [
    "sns.countplot('Embarked', hue = 'Survived', data = train_data)\n",
    "plt.title('Embarked and Survived')"
   ]
  },
  {
   "cell_type": "code",
   "execution_count": 37,
   "metadata": {},
   "outputs": [
    {
     "data": {
      "image/png": "[encoded data removed]",
      "text/plain": [
       "<Figure size 432x216 with 1 Axes>"
      ]
     },
     "metadata": {},
     "output_type": "display_data"
    }
   ],
   "source": [
    "sns.factorplot('Embarked','Survived',data = train_data, size=3, aspect=2)\n",
    "plt.title('Embarked and Survived rate')\n",
    "plt.show()"
   ]
  },
  {
   "cell_type": "markdown",
   "metadata": {},
   "source": [
    "由上可以看出，在不同的港口上船，生还率不同，C最高，Q次之，S最低。 以上为所给出的数据特征与生还与否的分析。 据了解，泰坦尼克号上共有2224名乘客。本训练数据只给出了891名乘客的信息，如果该数据集是从总共的2224人随机选出的，根据中心极限定理，该样本的数据量也足够大，那么我们的分析结果就具有代表性；但如果不是随机选取，那么我们的分析结果就可能不太靠谱了。"
   ]
  },
  {
   "cell_type": "markdown",
   "metadata": {},
   "source": [
    "## 3.11 其他可能和存活与否有关系的特征"
   ]
  },
  {
   "cell_type": "markdown",
   "metadata": {},
   "source": [
    "对于数据集中没有给出的特征信息，我们还可以联想其他可能会对模型产生影响的特征因素。如：乘客的国籍、乘客的身高、乘客的体重、乘客是否会游泳、乘客职业等等。\n",
    "另外还有数据集中没有分析的几个特征：Ticket（船票号）、Cabin（船舱号），这些因素的不同可能会影响乘客在船中的位置从而影响逃生的顺序。但是船舱号数据缺失，船票号类别大，难以分析规律，所以在后期模型融合的时候，将这些因素交由模型来决定其重要性。"
   ]
  },
  {
   "cell_type": "markdown",
   "metadata": {},
   "source": [
    "# 4. 变量转换"
   ]
  },
  {
   "cell_type": "markdown",
   "metadata": {},
   "source": [
    "变量转换的目的是将数据转换为适用于模型使用的数据，不同模型接受不同类型的数据，Scikit-learn要求数据都是数字型numeric，所以我们要将一些非数字型的原始数据转换为数字型numeric。 所以下面对数据的转换进行介绍，以在进行特征工程的时候使用。 所有的数据可以分为两类：\n",
    "1.定性（Qualitative）变量可以以某种方式，Age就是一个很好的例子。\n",
    "2.定量（Quantitative）变量描述了物体的某一（不能被数学表示的）方面，Embarked就是一个例子。"
   ]
  },
  {
   "cell_type": "markdown",
   "metadata": {},
   "source": [
    "## 定性（Qualitative）转换："
   ]
  },
  {
   "cell_type": "markdown",
   "metadata": {},
   "source": [
    "## 4.1 Dummy Variables"
   ]
  },
  {
   "cell_type": "markdown",
   "metadata": {},
   "source": [
    "就是类别变量或者二元变量，当qualitative variable是一些频繁出现的几个独立变量时，Dummy Variables比较适用。我们以Embarked只包含三个值’S'，‘C'，’Q'，我们可以使用下面的代码将其转换为dummies："
   ]
  },
  {
   "cell_type": "code",
   "execution_count": 38,
   "metadata": {},
   "outputs": [
    {
     "data": {
      "text/html": [
       "<div>\n",
       "<style scoped>\n",
       "    .dataframe tbody tr th:only-of-type {\n",
       "        vertical-align: middle;\n",
       "    }\n",
       "\n",
       "    .dataframe tbody tr th {\n",
       "        vertical-align: top;\n",
       "    }\n",
       "\n",
       "    .dataframe thead th {\n",
       "        text-align: right;\n",
       "    }\n",
       "</style>\n",
       "<table border=\"1\" class=\"dataframe\">\n",
       "  <thead>\n",
       "    <tr style=\"text-align: right;\">\n",
       "      <th></th>\n",
       "      <th>S</th>\n",
       "      <th>C</th>\n",
       "      <th>Q</th>\n",
       "    </tr>\n",
       "  </thead>\n",
       "  <tbody>\n",
       "    <tr>\n",
       "      <th>0</th>\n",
       "      <td>1</td>\n",
       "      <td>0</td>\n",
       "      <td>0</td>\n",
       "    </tr>\n",
       "    <tr>\n",
       "      <th>1</th>\n",
       "      <td>0</td>\n",
       "      <td>1</td>\n",
       "      <td>0</td>\n",
       "    </tr>\n",
       "    <tr>\n",
       "      <th>2</th>\n",
       "      <td>1</td>\n",
       "      <td>0</td>\n",
       "      <td>0</td>\n",
       "    </tr>\n",
       "    <tr>\n",
       "      <th>3</th>\n",
       "      <td>1</td>\n",
       "      <td>0</td>\n",
       "      <td>0</td>\n",
       "    </tr>\n",
       "    <tr>\n",
       "      <th>4</th>\n",
       "      <td>1</td>\n",
       "      <td>0</td>\n",
       "      <td>0</td>\n",
       "    </tr>\n",
       "  </tbody>\n",
       "</table>\n",
       "</div>"
      ],
      "text/plain": [
       "   S  C  Q\n",
       "0  1  0  0\n",
       "1  0  1  0\n",
       "2  1  0  0\n",
       "3  1  0  0\n",
       "4  1  0  0"
      ]
     },
     "execution_count": 38,
     "metadata": {},
     "output_type": "execute_result"
    }
   ],
   "source": [
    "embark_dummies = pd.get_dummies(train_data['Embarked'])\n",
    "train_data = train_data.join(embark_dummies)\n",
    "train_data.drop(['Embarked'], axis = 1, inplace = True)\n",
    "\n",
    "embark_dummies = train_data[['S', 'C', 'Q']]\n",
    "embark_dummies.head()\n"
   ]
  },
  {
   "cell_type": "markdown",
   "metadata": {},
   "source": [
    "## 4.2 Factoring"
   ]
  },
  {
   "cell_type": "markdown",
   "metadata": {},
   "source": [
    "dummy不好处理Cabin（船舱号）这种标称属性，因为他出现的变量比较多。所以Pandas有一个方法叫做factorize()，它可以创建一些数字，来表示类别变量，对每一个类别映射一个ID，这种映射最后只生成一个特征，不像dummy那样生成多个特征。"
   ]
  },
  {
   "cell_type": "code",
   "execution_count": 39,
   "metadata": {},
   "outputs": [
    {
     "data": {
      "text/html": [
       "<div>\n",
       "<style scoped>\n",
       "    .dataframe tbody tr th:only-of-type {\n",
       "        vertical-align: middle;\n",
       "    }\n",
       "\n",
       "    .dataframe tbody tr th {\n",
       "        vertical-align: top;\n",
       "    }\n",
       "\n",
       "    .dataframe thead th {\n",
       "        text-align: right;\n",
       "    }\n",
       "</style>\n",
       "<table border=\"1\" class=\"dataframe\">\n",
       "  <thead>\n",
       "    <tr style=\"text-align: right;\">\n",
       "      <th></th>\n",
       "      <th>Cabin</th>\n",
       "      <th>CabinLetter</th>\n",
       "    </tr>\n",
       "  </thead>\n",
       "  <tbody>\n",
       "    <tr>\n",
       "      <th>0</th>\n",
       "      <td>U0</td>\n",
       "      <td>0</td>\n",
       "    </tr>\n",
       "    <tr>\n",
       "      <th>1</th>\n",
       "      <td>C85</td>\n",
       "      <td>1</td>\n",
       "    </tr>\n",
       "    <tr>\n",
       "      <th>2</th>\n",
       "      <td>U0</td>\n",
       "      <td>0</td>\n",
       "    </tr>\n",
       "    <tr>\n",
       "      <th>3</th>\n",
       "      <td>C123</td>\n",
       "      <td>1</td>\n",
       "    </tr>\n",
       "    <tr>\n",
       "      <th>4</th>\n",
       "      <td>U0</td>\n",
       "      <td>0</td>\n",
       "    </tr>\n",
       "  </tbody>\n",
       "</table>\n",
       "</div>"
      ],
      "text/plain": [
       "  Cabin  CabinLetter\n",
       "0    U0            0\n",
       "1   C85            1\n",
       "2    U0            0\n",
       "3  C123            1\n",
       "4    U0            0"
      ]
     },
     "execution_count": 39,
     "metadata": {},
     "output_type": "execute_result"
    }
   ],
   "source": [
    "# Replace missing values with \"U0\"\n",
    "train_data['Cabin'][train_data.Cabin.isnull()] = 'U0'\n",
    "# Create feature for the alphabetical part of the cabin number\n",
    "train_data['CabinLetter'] = train_data['Cabin'].map(lambda x : re.compile(\"([a-zA-Z]+)\").search(x).group())\n",
    "# convert the distinct cabin letters with incremental integer values\n",
    "train_data['CabinLetter'] = pd.factorize(train_data['CabinLetter'])[0]\n",
    "\n",
    "train_data[['Cabin','CabinLetter']].head()\n"
   ]
  },
  {
   "cell_type": "markdown",
   "metadata": {},
   "source": [
    "## 定量（Quantitative）转换："
   ]
  },
  {
   "cell_type": "markdown",
   "metadata": {},
   "source": [
    "## 4.3 Scaling"
   ]
  },
  {
   "cell_type": "markdown",
   "metadata": {},
   "source": [
    "Scaling可以将一个很大范围的数值映射到一个很小范围（通常是 -1到1，或者是0到1），很多情况下我们需要将数值做Scaling使其范围大小一样，否则大范围数特征将会有更高的权重。比如：Age的范围可能只是0-100，而income的范围可能是0-10000000，在某些对数组大小敏感的模型中会影响其结果。"
   ]
  },
  {
   "cell_type": "markdown",
   "metadata": {},
   "source": [
    "下面对Age进行Scaling："
   ]
  },
  {
   "cell_type": "code",
   "execution_count": 40,
   "metadata": {},
   "outputs": [
    {
     "name": "stdout",
     "output_type": "stream",
     "text": [
      "0   -0.558119\n",
      "1    0.607254\n",
      "2   -0.266776\n",
      "3    0.388747\n",
      "4    0.388747\n",
      "Name: Age_scaled, dtype: float64\n"
     ]
    }
   ],
   "source": [
    "from sklearn import preprocessing\n",
    "\n",
    "assert np.size(train_data['Age']) == 891\n",
    "# StandardScaler will subtract the mean from each value then scale to the unit varience\n",
    "scaler = preprocessing.StandardScaler()\n",
    "train_data['Age_scaled'] = scaler.fit_transform(train_data['Age'].values.reshape(-1, 1))\n",
    "\n",
    "print(train_data['Age_scaled'].head())\n"
   ]
  },
  {
   "cell_type": "markdown",
   "metadata": {},
   "source": [
    "## 4.4 Binning"
   ]
  },
  {
   "cell_type": "markdown",
   "metadata": {},
   "source": [
    "Binning通过观察“邻居”（即周围的值）将连续数据离散化。存储的值被分布到一些“桶”或“箱”中，就像直方图的bin将数据划分成几块一样。\n",
    "下面的代码对Fare进行Binning。"
   ]
  },
  {
   "cell_type": "code",
   "execution_count": 41,
   "metadata": {},
   "outputs": [
    {
     "name": "stdout",
     "output_type": "stream",
     "text": [
      "0      (-0.001, 7.854]\n",
      "1    (39.688, 512.329]\n",
      "2        (7.854, 10.5]\n",
      "3    (39.688, 512.329]\n",
      "4        (7.854, 10.5]\n",
      "Name: Fare_bin, dtype: category\n",
      "Categories (5, interval[float64]): [(-0.001, 7.854] < (7.854, 10.5] < (10.5, 21.679] < (21.679, 39.688] < (39.688, 512.329]]\n"
     ]
    }
   ],
   "source": [
    "# Divide all fares into quartiles\n",
    "train_data['Fare_bin'] = pd.qcut(train_data['Fare'], 5)\n",
    "print(train_data['Fare_bin'].head())\n"
   ]
  },
  {
   "cell_type": "markdown",
   "metadata": {},
   "source": [
    "在将数据Binning化后，要么将数据factorize化，要么dummies化。"
   ]
  },
  {
   "cell_type": "code",
   "execution_count": 42,
   "metadata": {},
   "outputs": [],
   "source": [
    "# qcut() create a new variable that idetifies the quartile range, but we can't use the string\n",
    "# so either factorize or create dummies from the result\n",
    "\n",
    "# factorize\n",
    "train_data['Fare_bin_id'] = pd.factorize(train_data['Fare_bin'])[0]\n",
    "\n",
    "# dummies\n",
    "fare_bin_dummies_df = pd.get_dummies(train_data['Fare_bin']).rename(columns=lambda x: 'Fare_' + str(x))\n",
    "train_data = pd.concat([train_data, fare_bin_dummies_df], axis=1)"
   ]
  },
  {
   "cell_type": "markdown",
   "metadata": {},
   "source": [
    "# 5.特征工程"
   ]
  },
  {
   "cell_type": "markdown",
   "metadata": {},
   "source": [
    "在进行特征工程的时候，我们不仅需要对训练数据进行处理，还需要同时将测试数据同训练数据一起处理，使得二者具有相同的数据类型和数据分布。"
   ]
  },
  {
   "cell_type": "code",
   "execution_count": 43,
   "metadata": {},
   "outputs": [],
   "source": [
    "train_df_org = pd.read_csv('train.csv')\n",
    "test_df_org = pd.read_csv('test.csv')\n",
    "test_df_org['Survived'] = 0\n",
    "combined_train_test = train_df_org.append(test_df_org) # 891+418=1309rows 12columns\n",
    "PassengerId = test_df_org['PassengerId']\n"
   ]
  },
  {
   "cell_type": "markdown",
   "metadata": {},
   "source": [
    "对数据进行特征工程，也就是从各项参数中提取出对输出结果有或大或小的影响的特征，将这些特征作为训练模型的依据。一般来说，我们会先从含有缺失值的特征开始"
   ]
  },
  {
   "cell_type": "markdown",
   "metadata": {},
   "source": [
    "## 5.1 Embarked"
   ]
  },
  {
   "cell_type": "markdown",
   "metadata": {},
   "source": [
    "因为“Embarked”项的缺失值不多，所以这里我们以众数来填充："
   ]
  },
  {
   "cell_type": "code",
   "execution_count": 44,
   "metadata": {},
   "outputs": [],
   "source": [
    "combined_train_test['Embarked'].fillna(combined_train_test['Embarked'].mode().iloc[0], inplace = True)"
   ]
  },
  {
   "cell_type": "markdown",
   "metadata": {},
   "source": [
    "对于三种不同的港口，由上面介绍的数值转换，我们知道可以有两种特征处理方式；dummy和factorizing。因为只有三个港口，所以我们可以直接用dummy来处理："
   ]
  },
  {
   "cell_type": "code",
   "execution_count": 45,
   "metadata": {},
   "outputs": [
    {
     "name": "stdout",
     "output_type": "stream",
     "text": [
      "      Age        Cabin  Embarked      Fare  \\\n",
      "0    22.0          NaN         0    7.2500   \n",
      "1    38.0          C85         1   71.2833   \n",
      "2    26.0          NaN         0    7.9250   \n",
      "3    35.0         C123         0   53.1000   \n",
      "4    35.0          NaN         0    8.0500   \n",
      "5     NaN          NaN         2    8.4583   \n",
      "6    54.0          E46         0   51.8625   \n",
      "7     2.0          NaN         0   21.0750   \n",
      "8    27.0          NaN         0   11.1333   \n",
      "9    14.0          NaN         1   30.0708   \n",
      "10    4.0           G6         0   16.7000   \n",
      "11   58.0         C103         0   26.5500   \n",
      "12   20.0          NaN         0    8.0500   \n",
      "13   39.0          NaN         0   31.2750   \n",
      "14   14.0          NaN         0    7.8542   \n",
      "15   55.0          NaN         0   16.0000   \n",
      "16    2.0          NaN         2   29.1250   \n",
      "17    NaN          NaN         0   13.0000   \n",
      "18   31.0          NaN         0   18.0000   \n",
      "19    NaN          NaN         1    7.2250   \n",
      "20   35.0          NaN         0   26.0000   \n",
      "21   34.0          D56         0   13.0000   \n",
      "22   15.0          NaN         2    8.0292   \n",
      "23   28.0           A6         0   35.5000   \n",
      "24    8.0          NaN         0   21.0750   \n",
      "25   38.0          NaN         0   31.3875   \n",
      "26    NaN          NaN         1    7.2250   \n",
      "27   19.0  C23 C25 C27         0  263.0000   \n",
      "28    NaN          NaN         2    7.8792   \n",
      "29    NaN          NaN         0    7.8958   \n",
      "..    ...          ...       ...       ...   \n",
      "388  21.0          NaN         2    7.7500   \n",
      "389   6.0          NaN         0   21.0750   \n",
      "390  23.0          B24         0   93.5000   \n",
      "391  51.0          D28         0   39.4000   \n",
      "392  13.0          NaN         0   20.2500   \n",
      "393  47.0          NaN         0   10.5000   \n",
      "394  29.0          NaN         0   22.0250   \n",
      "395  18.0          C31         0   60.0000   \n",
      "396  24.0          NaN         2    7.2500   \n",
      "397  48.0          B41         1   79.2000   \n",
      "398  22.0          NaN         0    7.7750   \n",
      "399  31.0          NaN         2    7.7333   \n",
      "400  30.0           C7         0  164.8667   \n",
      "401  38.0          NaN         0   21.0000   \n",
      "402  22.0          NaN         1   59.4000   \n",
      "403  17.0          NaN         0   47.1000   \n",
      "404  43.0          D40         1   27.7208   \n",
      "405  20.0          D38         1   13.8625   \n",
      "406  23.0          NaN         0   10.5000   \n",
      "407  50.0          C80         1  211.5000   \n",
      "408   NaN          NaN         2    7.7208   \n",
      "409   3.0          NaN         0   13.7750   \n",
      "410   NaN          NaN         2    7.7500   \n",
      "411  37.0          C78         2   90.0000   \n",
      "412  28.0          NaN         0    7.7750   \n",
      "413   NaN          NaN         0    8.0500   \n",
      "414  39.0         C105         1  108.9000   \n",
      "415  38.5          NaN         0    7.2500   \n",
      "416   NaN          NaN         0    8.0500   \n",
      "417   NaN          NaN         1   22.3583   \n",
      "\n",
      "                                                  Name  Parch  PassengerId  \\\n",
      "0                              Braund, Mr. Owen Harris      0            1   \n",
      "1    Cumings, Mrs. John Bradley (Florence Briggs Th...      0            2   \n",
      "2                               Heikkinen, Miss. Laina      0            3   \n",
      "3         Futrelle, Mrs. Jacques Heath (Lily May Peel)      0            4   \n",
      "4                             Allen, Mr. William Henry      0            5   \n",
      "5                                     Moran, Mr. James      0            6   \n",
      "6                              McCarthy, Mr. Timothy J      0            7   \n",
      "7                       Palsson, Master. Gosta Leonard      1            8   \n",
      "8    Johnson, Mrs. Oscar W (Elisabeth Vilhelmina Berg)      2            9   \n",
      "9                  Nasser, Mrs. Nicholas (Adele Achem)      0           10   \n",
      "10                     Sandstrom, Miss. Marguerite Rut      1           11   \n",
      "11                            Bonnell, Miss. Elizabeth      0           12   \n",
      "12                      Saundercock, Mr. William Henry      0           13   \n",
      "13                         Andersson, Mr. Anders Johan      5           14   \n",
      "14                Vestrom, Miss. Hulda Amanda Adolfina      0           15   \n",
      "15                    Hewlett, Mrs. (Mary D Kingcome)       0           16   \n",
      "16                                Rice, Master. Eugene      1           17   \n",
      "17                        Williams, Mr. Charles Eugene      0           18   \n",
      "18   Vander Planke, Mrs. Julius (Emelia Maria Vande...      0           19   \n",
      "19                             Masselmani, Mrs. Fatima      0           20   \n",
      "20                                Fynney, Mr. Joseph J      0           21   \n",
      "21                               Beesley, Mr. Lawrence      0           22   \n",
      "22                         McGowan, Miss. Anna \"Annie\"      0           23   \n",
      "23                        Sloper, Mr. William Thompson      0           24   \n",
      "24                       Palsson, Miss. Torborg Danira      1           25   \n",
      "25   Asplund, Mrs. Carl Oscar (Selma Augusta Emilia...      5           26   \n",
      "26                             Emir, Mr. Farred Chehab      0           27   \n",
      "27                      Fortune, Mr. Charles Alexander      2           28   \n",
      "28                       O'Dwyer, Miss. Ellen \"Nellie\"      0           29   \n",
      "29                                 Todoroff, Mr. Lalio      0           30   \n",
      "..                                                 ...    ...          ...   \n",
      "388                               Canavan, Mr. Patrick      0         1280   \n",
      "389                        Palsson, Master. Paul Folke      1         1281   \n",
      "390                         Payne, Mr. Vivian Ponsonby      0         1282   \n",
      "391     Lines, Mrs. Ernest H (Elizabeth Lindsey James)      1         1283   \n",
      "392                      Abbott, Master. Eugene Joseph      2         1284   \n",
      "393                               Gilbert, Mr. William      0         1285   \n",
      "394                           Kink-Heilmann, Mr. Anton      1         1286   \n",
      "395     Smith, Mrs. Lucien Philip (Mary Eloise Hughes)      0         1287   \n",
      "396                               Colbert, Mr. Patrick      0         1288   \n",
      "397  Frolicher-Stehli, Mrs. Maxmillian (Margaretha ...      1         1289   \n",
      "398                     Larsson-Rondberg, Mr. Edvard A      0         1290   \n",
      "399                           Conlon, Mr. Thomas Henry      0         1291   \n",
      "400                            Bonnell, Miss. Caroline      0         1292   \n",
      "401                                    Gale, Mr. Harry      0         1293   \n",
      "402                     Gibson, Miss. Dorothy Winifred      1         1294   \n",
      "403                             Carrau, Mr. Jose Pedro      0         1295   \n",
      "404                       Frauenthal, Mr. Isaac Gerald      0         1296   \n",
      "405       Nourney, Mr. Alfred (Baron von Drachstedt\")\"      0         1297   \n",
      "406                          Ware, Mr. William Jeffery      0         1298   \n",
      "407                         Widener, Mr. George Dunton      1         1299   \n",
      "408                    Riordan, Miss. Johanna Hannah\"\"      0         1300   \n",
      "409                          Peacock, Miss. Treasteall      1         1301   \n",
      "410                             Naughton, Miss. Hannah      0         1302   \n",
      "411    Minahan, Mrs. William Edward (Lillian E Thorpe)      0         1303   \n",
      "412                     Henriksson, Miss. Jenny Lovisa      0         1304   \n",
      "413                                 Spector, Mr. Woolf      0         1305   \n",
      "414                       Oliva y Ocana, Dona. Fermina      0         1306   \n",
      "415                       Saether, Mr. Simon Sivertsen      0         1307   \n",
      "416                                Ware, Mr. Frederick      0         1308   \n",
      "417                           Peter, Master. Michael J      1         1309   \n",
      "\n",
      "     Pclass     Sex  SibSp  Survived              Ticket  Embarked_0  \\\n",
      "0         3    male      1         0           A/5 21171           1   \n",
      "1         1  female      1         1            PC 17599           0   \n",
      "2         3  female      0         1    STON/O2. 3101282           1   \n",
      "3         1  female      1         1              113803           1   \n",
      "4         3    male      0         0              373450           1   \n",
      "5         3    male      0         0              330877           0   \n",
      "6         1    male      0         0               17463           1   \n",
      "7         3    male      3         0              349909           1   \n",
      "8         3  female      0         1              347742           1   \n",
      "9         2  female      1         1              237736           0   \n",
      "10        3  female      1         1             PP 9549           1   \n",
      "11        1  female      0         1              113783           1   \n",
      "12        3    male      0         0           A/5. 2151           1   \n",
      "13        3    male      1         0              347082           1   \n",
      "14        3  female      0         0              350406           1   \n",
      "15        2  female      0         1              248706           1   \n",
      "16        3    male      4         0              382652           0   \n",
      "17        2    male      0         1              244373           1   \n",
      "18        3  female      1         0              345763           1   \n",
      "19        3  female      0         1                2649           0   \n",
      "20        2    male      0         0              239865           1   \n",
      "21        2    male      0         1              248698           1   \n",
      "22        3  female      0         1              330923           0   \n",
      "23        1    male      0         1              113788           1   \n",
      "24        3  female      3         0              349909           1   \n",
      "25        3  female      1         1              347077           1   \n",
      "26        3    male      0         0                2631           0   \n",
      "27        1    male      3         0               19950           1   \n",
      "28        3  female      0         1              330959           0   \n",
      "29        3    male      0         0              349216           1   \n",
      "..      ...     ...    ...       ...                 ...         ...   \n",
      "388       3    male      0         0              364858           0   \n",
      "389       3    male      3         0              349909           1   \n",
      "390       1    male      0         0               12749           1   \n",
      "391       1  female      0         0            PC 17592           1   \n",
      "392       3    male      0         0           C.A. 2673           1   \n",
      "393       2    male      0         0          C.A. 30769           1   \n",
      "394       3    male      3         0              315153           1   \n",
      "395       1  female      1         0               13695           1   \n",
      "396       3    male      0         0              371109           0   \n",
      "397       1  female      1         0               13567           0   \n",
      "398       3    male      0         0              347065           1   \n",
      "399       3    male      0         0               21332           0   \n",
      "400       1  female      0         0               36928           1   \n",
      "401       2    male      1         0               28664           1   \n",
      "402       1  female      0         0              112378           0   \n",
      "403       1    male      0         0              113059           1   \n",
      "404       1    male      1         0               17765           0   \n",
      "405       2    male      0         0       SC/PARIS 2166           0   \n",
      "406       2    male      1         0               28666           1   \n",
      "407       1    male      1         0              113503           0   \n",
      "408       3  female      0         0              334915           0   \n",
      "409       3  female      1         0  SOTON/O.Q. 3101315           1   \n",
      "410       3  female      0         0              365237           0   \n",
      "411       1  female      1         0               19928           0   \n",
      "412       3  female      0         0              347086           1   \n",
      "413       3    male      0         0           A.5. 3236           1   \n",
      "414       1  female      0         0            PC 17758           0   \n",
      "415       3    male      0         0  SOTON/O.Q. 3101262           1   \n",
      "416       3    male      0         0              359309           1   \n",
      "417       3    male      1         0                2668           0   \n",
      "\n",
      "     Embarked_1  Embarked_2  \n",
      "0             0           0  \n",
      "1             1           0  \n",
      "2             0           0  \n",
      "3             0           0  \n",
      "4             0           0  \n",
      "5             0           1  \n",
      "6             0           0  \n",
      "7             0           0  \n",
      "8             0           0  \n",
      "9             1           0  \n",
      "10            0           0  \n",
      "11            0           0  \n",
      "12            0           0  \n",
      "13            0           0  \n",
      "14            0           0  \n",
      "15            0           0  \n",
      "16            0           1  \n",
      "17            0           0  \n",
      "18            0           0  \n",
      "19            1           0  \n",
      "20            0           0  \n",
      "21            0           0  \n",
      "22            0           1  \n",
      "23            0           0  \n",
      "24            0           0  \n",
      "25            0           0  \n",
      "26            1           0  \n",
      "27            0           0  \n",
      "28            0           1  \n",
      "29            0           0  \n",
      "..          ...         ...  \n",
      "388           0           1  \n",
      "389           0           0  \n",
      "390           0           0  \n",
      "391           0           0  \n",
      "392           0           0  \n",
      "393           0           0  \n",
      "394           0           0  \n",
      "395           0           0  \n",
      "396           0           1  \n",
      "397           1           0  \n",
      "398           0           0  \n",
      "399           0           1  \n",
      "400           0           0  \n",
      "401           0           0  \n",
      "402           1           0  \n",
      "403           0           0  \n",
      "404           1           0  \n",
      "405           1           0  \n",
      "406           0           0  \n",
      "407           1           0  \n",
      "408           0           1  \n",
      "409           0           0  \n",
      "410           0           1  \n",
      "411           0           1  \n",
      "412           0           0  \n",
      "413           0           0  \n",
      "414           1           0  \n",
      "415           0           0  \n",
      "416           0           0  \n",
      "417           1           0  \n",
      "\n",
      "[1309 rows x 15 columns]\n"
     ]
    }
   ],
   "source": [
    "#为了后面的特征分析，这里我们将Embarked特征进行factorizing\n",
    "combined_train_test['Embarked'] = pd.factorize(combined_train_test['Embarked'])[0]\n",
    "\n",
    "#使用pd.get_dummies获取one-hot编码\n",
    "emb_dummies_df = pd.get_dummies(combined_train_test['Embarked'], prefix = combined_train_test[['Embarked']].columns[0])\n",
    "combined_train_test = pd.concat([combined_train_test, emb_dummies_df], axis = 1)\n",
    "print(combined_train_test)\n",
    "\n"
   ]
  },
  {
   "cell_type": "markdown",
   "metadata": {},
   "source": [
    "## 5.2 Sex"
   ]
  },
  {
   "cell_type": "markdown",
   "metadata": {},
   "source": [
    "对Sex也进行one-hot编码，也就是dummy处理："
   ]
  },
  {
   "cell_type": "code",
   "execution_count": 46,
   "metadata": {},
   "outputs": [
    {
     "name": "stdout",
     "output_type": "stream",
     "text": [
      "      Age        Cabin  Embarked      Fare  \\\n",
      "0    22.0          NaN         0    7.2500   \n",
      "1    38.0          C85         1   71.2833   \n",
      "2    26.0          NaN         0    7.9250   \n",
      "3    35.0         C123         0   53.1000   \n",
      "4    35.0          NaN         0    8.0500   \n",
      "5     NaN          NaN         2    8.4583   \n",
      "6    54.0          E46         0   51.8625   \n",
      "7     2.0          NaN         0   21.0750   \n",
      "8    27.0          NaN         0   11.1333   \n",
      "9    14.0          NaN         1   30.0708   \n",
      "10    4.0           G6         0   16.7000   \n",
      "11   58.0         C103         0   26.5500   \n",
      "12   20.0          NaN         0    8.0500   \n",
      "13   39.0          NaN         0   31.2750   \n",
      "14   14.0          NaN         0    7.8542   \n",
      "15   55.0          NaN         0   16.0000   \n",
      "16    2.0          NaN         2   29.1250   \n",
      "17    NaN          NaN         0   13.0000   \n",
      "18   31.0          NaN         0   18.0000   \n",
      "19    NaN          NaN         1    7.2250   \n",
      "20   35.0          NaN         0   26.0000   \n",
      "21   34.0          D56         0   13.0000   \n",
      "22   15.0          NaN         2    8.0292   \n",
      "23   28.0           A6         0   35.5000   \n",
      "24    8.0          NaN         0   21.0750   \n",
      "25   38.0          NaN         0   31.3875   \n",
      "26    NaN          NaN         1    7.2250   \n",
      "27   19.0  C23 C25 C27         0  263.0000   \n",
      "28    NaN          NaN         2    7.8792   \n",
      "29    NaN          NaN         0    7.8958   \n",
      "..    ...          ...       ...       ...   \n",
      "388  21.0          NaN         2    7.7500   \n",
      "389   6.0          NaN         0   21.0750   \n",
      "390  23.0          B24         0   93.5000   \n",
      "391  51.0          D28         0   39.4000   \n",
      "392  13.0          NaN         0   20.2500   \n",
      "393  47.0          NaN         0   10.5000   \n",
      "394  29.0          NaN         0   22.0250   \n",
      "395  18.0          C31         0   60.0000   \n",
      "396  24.0          NaN         2    7.2500   \n",
      "397  48.0          B41         1   79.2000   \n",
      "398  22.0          NaN         0    7.7750   \n",
      "399  31.0          NaN         2    7.7333   \n",
      "400  30.0           C7         0  164.8667   \n",
      "401  38.0          NaN         0   21.0000   \n",
      "402  22.0          NaN         1   59.4000   \n",
      "403  17.0          NaN         0   47.1000   \n",
      "404  43.0          D40         1   27.7208   \n",
      "405  20.0          D38         1   13.8625   \n",
      "406  23.0          NaN         0   10.5000   \n",
      "407  50.0          C80         1  211.5000   \n",
      "408   NaN          NaN         2    7.7208   \n",
      "409   3.0          NaN         0   13.7750   \n",
      "410   NaN          NaN         2    7.7500   \n",
      "411  37.0          C78         2   90.0000   \n",
      "412  28.0          NaN         0    7.7750   \n",
      "413   NaN          NaN         0    8.0500   \n",
      "414  39.0         C105         1  108.9000   \n",
      "415  38.5          NaN         0    7.2500   \n",
      "416   NaN          NaN         0    8.0500   \n",
      "417   NaN          NaN         1   22.3583   \n",
      "\n",
      "                                                  Name  Parch  PassengerId  \\\n",
      "0                              Braund, Mr. Owen Harris      0            1   \n",
      "1    Cumings, Mrs. John Bradley (Florence Briggs Th...      0            2   \n",
      "2                               Heikkinen, Miss. Laina      0            3   \n",
      "3         Futrelle, Mrs. Jacques Heath (Lily May Peel)      0            4   \n",
      "4                             Allen, Mr. William Henry      0            5   \n",
      "5                                     Moran, Mr. James      0            6   \n",
      "6                              McCarthy, Mr. Timothy J      0            7   \n",
      "7                       Palsson, Master. Gosta Leonard      1            8   \n",
      "8    Johnson, Mrs. Oscar W (Elisabeth Vilhelmina Berg)      2            9   \n",
      "9                  Nasser, Mrs. Nicholas (Adele Achem)      0           10   \n",
      "10                     Sandstrom, Miss. Marguerite Rut      1           11   \n",
      "11                            Bonnell, Miss. Elizabeth      0           12   \n",
      "12                      Saundercock, Mr. William Henry      0           13   \n",
      "13                         Andersson, Mr. Anders Johan      5           14   \n",
      "14                Vestrom, Miss. Hulda Amanda Adolfina      0           15   \n",
      "15                    Hewlett, Mrs. (Mary D Kingcome)       0           16   \n",
      "16                                Rice, Master. Eugene      1           17   \n",
      "17                        Williams, Mr. Charles Eugene      0           18   \n",
      "18   Vander Planke, Mrs. Julius (Emelia Maria Vande...      0           19   \n",
      "19                             Masselmani, Mrs. Fatima      0           20   \n",
      "20                                Fynney, Mr. Joseph J      0           21   \n",
      "21                               Beesley, Mr. Lawrence      0           22   \n",
      "22                         McGowan, Miss. Anna \"Annie\"      0           23   \n",
      "23                        Sloper, Mr. William Thompson      0           24   \n",
      "24                       Palsson, Miss. Torborg Danira      1           25   \n",
      "25   Asplund, Mrs. Carl Oscar (Selma Augusta Emilia...      5           26   \n",
      "26                             Emir, Mr. Farred Chehab      0           27   \n",
      "27                      Fortune, Mr. Charles Alexander      2           28   \n",
      "28                       O'Dwyer, Miss. Ellen \"Nellie\"      0           29   \n",
      "29                                 Todoroff, Mr. Lalio      0           30   \n",
      "..                                                 ...    ...          ...   \n",
      "388                               Canavan, Mr. Patrick      0         1280   \n",
      "389                        Palsson, Master. Paul Folke      1         1281   \n",
      "390                         Payne, Mr. Vivian Ponsonby      0         1282   \n",
      "391     Lines, Mrs. Ernest H (Elizabeth Lindsey James)      1         1283   \n",
      "392                      Abbott, Master. Eugene Joseph      2         1284   \n",
      "393                               Gilbert, Mr. William      0         1285   \n",
      "394                           Kink-Heilmann, Mr. Anton      1         1286   \n",
      "395     Smith, Mrs. Lucien Philip (Mary Eloise Hughes)      0         1287   \n",
      "396                               Colbert, Mr. Patrick      0         1288   \n",
      "397  Frolicher-Stehli, Mrs. Maxmillian (Margaretha ...      1         1289   \n",
      "398                     Larsson-Rondberg, Mr. Edvard A      0         1290   \n",
      "399                           Conlon, Mr. Thomas Henry      0         1291   \n",
      "400                            Bonnell, Miss. Caroline      0         1292   \n",
      "401                                    Gale, Mr. Harry      0         1293   \n",
      "402                     Gibson, Miss. Dorothy Winifred      1         1294   \n",
      "403                             Carrau, Mr. Jose Pedro      0         1295   \n",
      "404                       Frauenthal, Mr. Isaac Gerald      0         1296   \n",
      "405       Nourney, Mr. Alfred (Baron von Drachstedt\")\"      0         1297   \n",
      "406                          Ware, Mr. William Jeffery      0         1298   \n",
      "407                         Widener, Mr. George Dunton      1         1299   \n",
      "408                    Riordan, Miss. Johanna Hannah\"\"      0         1300   \n",
      "409                          Peacock, Miss. Treasteall      1         1301   \n",
      "410                             Naughton, Miss. Hannah      0         1302   \n",
      "411    Minahan, Mrs. William Edward (Lillian E Thorpe)      0         1303   \n",
      "412                     Henriksson, Miss. Jenny Lovisa      0         1304   \n",
      "413                                 Spector, Mr. Woolf      0         1305   \n",
      "414                       Oliva y Ocana, Dona. Fermina      0         1306   \n",
      "415                       Saether, Mr. Simon Sivertsen      0         1307   \n",
      "416                                Ware, Mr. Frederick      0         1308   \n",
      "417                           Peter, Master. Michael J      1         1309   \n",
      "\n",
      "     Pclass  Sex  SibSp  Survived              Ticket  Embarked_0  Embarked_1  \\\n",
      "0         3    0      1         0           A/5 21171           1           0   \n",
      "1         1    1      1         1            PC 17599           0           1   \n",
      "2         3    1      0         1    STON/O2. 3101282           1           0   \n",
      "3         1    1      1         1              113803           1           0   \n",
      "4         3    0      0         0              373450           1           0   \n",
      "5         3    0      0         0              330877           0           0   \n",
      "6         1    0      0         0               17463           1           0   \n",
      "7         3    0      3         0              349909           1           0   \n",
      "8         3    1      0         1              347742           1           0   \n",
      "9         2    1      1         1              237736           0           1   \n",
      "10        3    1      1         1             PP 9549           1           0   \n",
      "11        1    1      0         1              113783           1           0   \n",
      "12        3    0      0         0           A/5. 2151           1           0   \n",
      "13        3    0      1         0              347082           1           0   \n",
      "14        3    1      0         0              350406           1           0   \n",
      "15        2    1      0         1              248706           1           0   \n",
      "16        3    0      4         0              382652           0           0   \n",
      "17        2    0      0         1              244373           1           0   \n",
      "18        3    1      1         0              345763           1           0   \n",
      "19        3    1      0         1                2649           0           1   \n",
      "20        2    0      0         0              239865           1           0   \n",
      "21        2    0      0         1              248698           1           0   \n",
      "22        3    1      0         1              330923           0           0   \n",
      "23        1    0      0         1              113788           1           0   \n",
      "24        3    1      3         0              349909           1           0   \n",
      "25        3    1      1         1              347077           1           0   \n",
      "26        3    0      0         0                2631           0           1   \n",
      "27        1    0      3         0               19950           1           0   \n",
      "28        3    1      0         1              330959           0           0   \n",
      "29        3    0      0         0              349216           1           0   \n",
      "..      ...  ...    ...       ...                 ...         ...         ...   \n",
      "388       3    0      0         0              364858           0           0   \n",
      "389       3    0      3         0              349909           1           0   \n",
      "390       1    0      0         0               12749           1           0   \n",
      "391       1    1      0         0            PC 17592           1           0   \n",
      "392       3    0      0         0           C.A. 2673           1           0   \n",
      "393       2    0      0         0          C.A. 30769           1           0   \n",
      "394       3    0      3         0              315153           1           0   \n",
      "395       1    1      1         0               13695           1           0   \n",
      "396       3    0      0         0              371109           0           0   \n",
      "397       1    1      1         0               13567           0           1   \n",
      "398       3    0      0         0              347065           1           0   \n",
      "399       3    0      0         0               21332           0           0   \n",
      "400       1    1      0         0               36928           1           0   \n",
      "401       2    0      1         0               28664           1           0   \n",
      "402       1    1      0         0              112378           0           1   \n",
      "403       1    0      0         0              113059           1           0   \n",
      "404       1    0      1         0               17765           0           1   \n",
      "405       2    0      0         0       SC/PARIS 2166           0           1   \n",
      "406       2    0      1         0               28666           1           0   \n",
      "407       1    0      1         0              113503           0           1   \n",
      "408       3    1      0         0              334915           0           0   \n",
      "409       3    1      1         0  SOTON/O.Q. 3101315           1           0   \n",
      "410       3    1      0         0              365237           0           0   \n",
      "411       1    1      1         0               19928           0           0   \n",
      "412       3    1      0         0              347086           1           0   \n",
      "413       3    0      0         0           A.5. 3236           1           0   \n",
      "414       1    1      0         0            PC 17758           0           1   \n",
      "415       3    0      0         0  SOTON/O.Q. 3101262           1           0   \n",
      "416       3    0      0         0              359309           1           0   \n",
      "417       3    0      1         0                2668           0           1   \n",
      "\n",
      "     Embarked_2  Sex_0  Sex_1  \n",
      "0             0      1      0  \n",
      "1             0      0      1  \n",
      "2             0      0      1  \n",
      "3             0      0      1  \n",
      "4             0      1      0  \n",
      "5             1      1      0  \n",
      "6             0      1      0  \n",
      "7             0      1      0  \n",
      "8             0      0      1  \n",
      "9             0      0      1  \n",
      "10            0      0      1  \n",
      "11            0      0      1  \n",
      "12            0      1      0  \n",
      "13            0      1      0  \n",
      "14            0      0      1  \n",
      "15            0      0      1  \n",
      "16            1      1      0  \n",
      "17            0      1      0  \n",
      "18            0      0      1  \n",
      "19            0      0      1  \n",
      "20            0      1      0  \n",
      "21            0      1      0  \n",
      "22            1      0      1  \n",
      "23            0      1      0  \n",
      "24            0      0      1  \n",
      "25            0      0      1  \n",
      "26            0      1      0  \n",
      "27            0      1      0  \n",
      "28            1      0      1  \n",
      "29            0      1      0  \n",
      "..          ...    ...    ...  \n",
      "388           1      1      0  \n",
      "389           0      1      0  \n",
      "390           0      1      0  \n",
      "391           0      0      1  \n",
      "392           0      1      0  \n",
      "393           0      1      0  \n",
      "394           0      1      0  \n",
      "395           0      0      1  \n",
      "396           1      1      0  \n",
      "397           0      0      1  \n",
      "398           0      1      0  \n",
      "399           1      1      0  \n",
      "400           0      0      1  \n",
      "401           0      1      0  \n",
      "402           0      0      1  \n",
      "403           0      1      0  \n",
      "404           0      1      0  \n",
      "405           0      1      0  \n",
      "406           0      1      0  \n",
      "407           0      1      0  \n",
      "408           1      0      1  \n",
      "409           0      0      1  \n",
      "410           1      0      1  \n",
      "411           1      0      1  \n",
      "412           0      0      1  \n",
      "413           0      1      0  \n",
      "414           0      0      1  \n",
      "415           0      1      0  \n",
      "416           0      1      0  \n",
      "417           0      1      0  \n",
      "\n",
      "[1309 rows x 17 columns]\n"
     ]
    }
   ],
   "source": [
    "# 为了后面的特征分析，这里我们也将Sex特征进行factorizing\n",
    "combined_train_test['Sex'] = pd.factorize(combined_train_test['Sex'])[0]\n",
    "\n",
    "sex_dummies_df = pd.get_dummies(combined_train_test['Sex'], prefix = combined_train_test[['Sex']].columns[0])\n",
    "combined_train_test = pd.concat([combined_train_test, sex_dummies_df], axis = 1)\n",
    "print(combined_train_test)\n",
    "\n"
   ]
  },
  {
   "cell_type": "markdown",
   "metadata": {},
   "source": [
    "## 5.3 Name"
   ]
  },
  {
   "cell_type": "markdown",
   "metadata": {},
   "source": [
    "首先从名字中提取各种称呼"
   ]
  },
  {
   "cell_type": "code",
   "execution_count": 47,
   "metadata": {},
   "outputs": [],
   "source": [
    "# what is each person's title?\n",
    "combined_train_test['Title'] = combined_train_test['Name'].map(lambda x: re.compile(\",(.*?)\\.\").findall(x)[0])\n",
    "combined_train_test['Title'] = combined_train_test['Title'].apply(lambda x: x.strip())\n"
   ]
  },
  {
   "cell_type": "markdown",
   "metadata": {},
   "source": [
    "将各式称呼进行统一化处理："
   ]
  },
  {
   "cell_type": "code",
   "execution_count": 48,
   "metadata": {},
   "outputs": [],
   "source": [
    "title_Dict = {}\n",
    "title_Dict.update(dict.fromkeys(['Capt','Col','Major','Dr','Rev'],'Officer'))\n",
    "title_Dict.update(dict.fromkeys(['Don','Sir','the Countess','Dona','Lady'],'Royalty'))\n",
    "title_Dict.update(dict.fromkeys(['Mme','Ms','Mrs'],'Mrs'))\n",
    "title_Dict.update(dict.fromkeys(['Male','Miss'],'Miss'))\n",
    "title_Dict.update(dict.fromkeys(['Mr'],'Mr'))\n",
    "title_Dict.update(dict.fromkeys(['Master','Jonkheer'],'Master'))\n",
    " \n",
    "combined_train_test['Title'] = combined_train_test['Title'].map(title_Dict)"
   ]
  },
  {
   "cell_type": "markdown",
   "metadata": {},
   "source": [
    "使用dummy对不同的称呼进行分列："
   ]
  },
  {
   "cell_type": "code",
   "execution_count": 49,
   "metadata": {},
   "outputs": [],
   "source": [
    "#为了后面的特征分析，这里我们也将Title特征进行factorizing\n",
    "combined_train_test['Title'] = pd.factorize(combined_train_test['Title'])[0]\n",
    "title_dummies_df = pd.get_dummies(combined_train_test['Title'], prefix = combined_train_test[['Title']].columns[0])\n",
    "combined_train_test = pd.concat([combined_train_test, title_dummies_df], axis = 1)\n"
   ]
  },
  {
   "cell_type": "markdown",
   "metadata": {},
   "source": [
    "增加名字长度的特征"
   ]
  },
  {
   "cell_type": "code",
   "execution_count": 50,
   "metadata": {},
   "outputs": [],
   "source": [
    "combined_train_test['Name_length'] = combined_train_test['Name'].apply(len)"
   ]
  },
  {
   "cell_type": "markdown",
   "metadata": {},
   "source": [
    "## 5.4 Fare"
   ]
  },
  {
   "cell_type": "markdown",
   "metadata": {},
   "source": [
    "由前面分析可以知道，Fare项在测试数据中缺少一个值，所以需要对该值进行填充。我们按照一二三等舱各自的均价来填充：\n",
    "\n",
    "下面transform将函数np.mean应用到各个group中。"
   ]
  },
  {
   "cell_type": "code",
   "execution_count": 51,
   "metadata": {},
   "outputs": [],
   "source": [
    "combined_train_test['Fare'] = combined_train_test[['Fare']].fillna(combined_train_test.groupby('Pclass').transform(np.mean))\n"
   ]
  },
  {
   "cell_type": "markdown",
   "metadata": {},
   "source": [
    "通过对Ticket数据的分析，我们可以看到部分票号数据有重复，同时结合亲属人数及名字的数据，和票价船舱等级对比，我们可以知道购买的票中有家庭票和团体票，所以我们需要将团体票的票价分配到每个人的头上。"
   ]
  },
  {
   "cell_type": "code",
   "execution_count": null,
   "metadata": {},
   "outputs": [],
   "source": [
    "combined_train_test['Group_Ticket'] = combined_train_test['Fare'].groupby(by = )"
   ]
  }
 ],
 "metadata": {
  "kernelspec": {
   "display_name": "Python 3",
   "language": "python",
   "name": "python3"
  },
  "language_info": {
   "codemirror_mode": {
    "name": "ipython",
    "version": 3
   },
   "file_extension": ".py",
   "mimetype": "text/x-python",
   "name": "python",
   "nbconvert_exporter": "python",
   "pygments_lexer": "ipython3",
   "version": "3.5.6"
  }
 },
 "nbformat": 4,
 "nbformat_minor": 2
}
