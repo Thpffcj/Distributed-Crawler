{
 "cells": [
  {
   "cell_type": "code",
   "execution_count": 1,
   "metadata": {
    "collapsed": true
   },
   "outputs": [],
   "source": [
    "import numpy as np\n",
    "import matplotlib.pyplot as plt"
   ]
  },
  {
   "cell_type": "code",
   "execution_count": 2,
   "metadata": {
    "collapsed": true
   },
   "outputs": [],
   "source": [
    "x = np.random.randint(0, 100, 100) "
   ]
  },
  {
   "cell_type": "code",
   "execution_count": 3,
   "metadata": {},
   "outputs": [
    {
     "data": {
      "text/plain": [
       "array([67, 42, 98, 83, 72,  8,  9, 82, 54, 71, 55, 72, 63, 56,  0,  3, 76,\n",
       "       64, 46, 94, 18, 98, 90, 74, 95, 82, 78, 27, 92, 80, 78, 69, 44, 91,\n",
       "       47, 86, 52,  6,  1, 14, 93, 88, 72, 49, 61, 58, 47, 96, 81, 31, 21,\n",
       "        1, 51, 48,  8, 78, 81, 10, 65, 47, 93, 68, 40, 97, 66, 12, 82, 91,\n",
       "       89, 47, 47, 67, 71, 93, 55, 42, 31, 54, 19, 48, 81, 53, 37, 51, 69,\n",
       "       42, 65, 62, 11, 79, 25, 28, 68,  0, 68, 18, 54, 96, 26,  8])"
      ]
     },
     "execution_count": 3,
     "metadata": {},
     "output_type": "execute_result"
    }
   ],
   "source": [
    "x"
   ]
  },
  {
   "cell_type": "code",
   "execution_count": 4,
   "metadata": {},
   "outputs": [
    {
     "data": {
      "text/plain": [
       "array([ 0.68367347,  0.42857143,  1.        ,  0.84693878,  0.73469388,\n",
       "        0.08163265,  0.09183673,  0.83673469,  0.55102041,  0.7244898 ,\n",
       "        0.56122449,  0.73469388,  0.64285714,  0.57142857,  0.        ,\n",
       "        0.03061224,  0.7755102 ,  0.65306122,  0.46938776,  0.95918367,\n",
       "        0.18367347,  1.        ,  0.91836735,  0.75510204,  0.96938776,\n",
       "        0.83673469,  0.79591837,  0.2755102 ,  0.93877551,  0.81632653,\n",
       "        0.79591837,  0.70408163,  0.44897959,  0.92857143,  0.47959184,\n",
       "        0.87755102,  0.53061224,  0.06122449,  0.01020408,  0.14285714,\n",
       "        0.94897959,  0.89795918,  0.73469388,  0.5       ,  0.62244898,\n",
       "        0.59183673,  0.47959184,  0.97959184,  0.82653061,  0.31632653,\n",
       "        0.21428571,  0.01020408,  0.52040816,  0.48979592,  0.08163265,\n",
       "        0.79591837,  0.82653061,  0.10204082,  0.66326531,  0.47959184,\n",
       "        0.94897959,  0.69387755,  0.40816327,  0.98979592,  0.67346939,\n",
       "        0.12244898,  0.83673469,  0.92857143,  0.90816327,  0.47959184,\n",
       "        0.47959184,  0.68367347,  0.7244898 ,  0.94897959,  0.56122449,\n",
       "        0.42857143,  0.31632653,  0.55102041,  0.19387755,  0.48979592,\n",
       "        0.82653061,  0.54081633,  0.37755102,  0.52040816,  0.70408163,\n",
       "        0.42857143,  0.66326531,  0.63265306,  0.1122449 ,  0.80612245,\n",
       "        0.25510204,  0.28571429,  0.69387755,  0.        ,  0.69387755,\n",
       "        0.18367347,  0.55102041,  0.97959184,  0.26530612,  0.08163265])"
      ]
     },
     "execution_count": 4,
     "metadata": {},
     "output_type": "execute_result"
    }
   ],
   "source": [
    "(x - np.min(x)) / (np.max(x) - np.min(x))"
   ]
  },
  {
   "cell_type": "code",
   "execution_count": 5,
   "metadata": {
    "collapsed": true
   },
   "outputs": [],
   "source": [
    "X = np.random.randint(0, 100, (50, 2))"
   ]
  },
  {
   "cell_type": "code",
   "execution_count": 6,
   "metadata": {
    "collapsed": true
   },
   "outputs": [],
   "source": [
    "X = np.array(X, dtype=float)"
   ]
  },
  {
   "cell_type": "code",
   "execution_count": 7,
   "metadata": {},
   "outputs": [
    {
     "data": {
      "text/plain": [
       "array([[ 56.,  93.],\n",
       "       [ 68.,  45.],\n",
       "       [ 82.,  13.],\n",
       "       [ 12.,  52.],\n",
       "       [ 17.,  51.],\n",
       "       [ 96.,  47.],\n",
       "       [ 52.,  14.],\n",
       "       [ 15.,  16.],\n",
       "       [ 68.,  39.],\n",
       "       [ 33.,  25.]])"
      ]
     },
     "execution_count": 7,
     "metadata": {},
     "output_type": "execute_result"
    }
   ],
   "source": [
    "X[:10,:]"
   ]
  },
  {
   "cell_type": "code",
   "execution_count": 8,
   "metadata": {
    "collapsed": true
   },
   "outputs": [],
   "source": [
    "X[:,0] = (X[:,0] - np.min(X[:,0])) / (np.max(X[:,0]) - np.min(X[:,0]))\n",
    "X[:,1] = (X[:,1] - np.min(X[:,1])) / (np.max(X[:,1]) - np.min(X[:,1]))"
   ]
  },
  {
   "cell_type": "code",
   "execution_count": 9,
   "metadata": {},
   "outputs": [
    {
     "data": {
      "text/plain": [
       "array([[ 0.58333333,  0.98924731],\n",
       "       [ 0.70833333,  0.47311828],\n",
       "       [ 0.85416667,  0.12903226],\n",
       "       [ 0.125     ,  0.5483871 ],\n",
       "       [ 0.17708333,  0.53763441],\n",
       "       [ 1.        ,  0.49462366],\n",
       "       [ 0.54166667,  0.13978495],\n",
       "       [ 0.15625   ,  0.16129032],\n",
       "       [ 0.70833333,  0.40860215],\n",
       "       [ 0.34375   ,  0.25806452]])"
      ]
     },
     "execution_count": 9,
     "metadata": {},
     "output_type": "execute_result"
    }
   ],
   "source": [
    "X[:10,:]"
   ]
  },
  {
   "cell_type": "code",
   "execution_count": 10,
   "metadata": {},
   "outputs": [
    {
     "data": {
      "image/png": "[encoded data removed]",
      "text/plain": [
       "<matplotlib.figure.Figure at 0x1a911eed6a0>"
      ]
     },
     "metadata": {},
     "output_type": "display_data"
    }
   ],
   "source": [
    "plt.scatter(X[:,0], X[:,1])\n",
    "plt.show()"
   ]
  },
  {
   "cell_type": "code",
   "execution_count": 11,
   "metadata": {},
   "outputs": [
    {
     "data": {
      "text/plain": [
       "0.48999999999999999"
      ]
     },
     "execution_count": 11,
     "metadata": {},
     "output_type": "execute_result"
    }
   ],
   "source": [
    "np.mean(X[:,0])"
   ]
  },
  {
   "cell_type": "code",
   "execution_count": 12,
   "metadata": {},
   "outputs": [
    {
     "data": {
      "text/plain": [
       "0.26612868910860898"
      ]
     },
     "execution_count": 12,
     "metadata": {},
     "output_type": "execute_result"
    }
   ],
   "source": [
    "np.std(X[:,0])"
   ]
  },
  {
   "cell_type": "code",
   "execution_count": 13,
   "metadata": {},
   "outputs": [
    {
     "data": {
      "text/plain": [
       "0.43806451612903224"
      ]
     },
     "execution_count": 13,
     "metadata": {},
     "output_type": "execute_result"
    }
   ],
   "source": [
    "np.mean(X[:,1])"
   ]
  },
  {
   "cell_type": "code",
   "execution_count": 14,
   "metadata": {},
   "outputs": [
    {
     "data": {
      "text/plain": [
       "0.26914225508899581"
      ]
     },
     "execution_count": 14,
     "metadata": {},
     "output_type": "execute_result"
    }
   ],
   "source": [
    "np.std(X[:,1])"
   ]
  },
  {
   "cell_type": "code",
   "execution_count": 15,
   "metadata": {
    "collapsed": true
   },
   "outputs": [],
   "source": [
    "X2 = np.random.randint(0, 100, (50, 2))\n",
    "X2 = np.array(X2, dtype=float)"
   ]
  },
  {
   "cell_type": "code",
   "execution_count": 16,
   "metadata": {
    "collapsed": true
   },
   "outputs": [],
   "source": [
    "X2[:,0] = (X2[:,0] - np.mean(X2[:,0])) / np.std(X2[:,0])\n",
    "X2[:,1] = (X2[:,1] - np.mean(X2[:,1])) / np.std(X2[:,1])"
   ]
  },
  {
   "cell_type": "code",
   "execution_count": 17,
   "metadata": {},
   "outputs": [
    {
     "data": {
      "image/png": "[encoded data removed]",
      "text/plain": [
       "<matplotlib.figure.Figure at 0x1a911f5af28>"
      ]
     },
     "metadata": {},
     "output_type": "display_data"
    }
   ],
   "source": [
    "plt.scatter(X2[:,0], X2[:,1])\n",
    "plt.show()"
   ]
  },
  {
   "cell_type": "code",
   "execution_count": 18,
   "metadata": {},
   "outputs": [
    {
     "data": {
      "text/plain": [
       "9.0205620750793969e-17"
      ]
     },
     "execution_count": 18,
     "metadata": {},
     "output_type": "execute_result"
    }
   ],
   "source": [
    "np.mean(X2[:,0])"
   ]
  },
  {
   "cell_type": "code",
   "execution_count": 19,
   "metadata": {},
   "outputs": [
    {
     "data": {
      "text/plain": [
       "0.99999999999999978"
      ]
     },
     "execution_count": 19,
     "metadata": {},
     "output_type": "execute_result"
    }
   ],
   "source": [
    "np.std(X2[:,0])"
   ]
  },
  {
   "cell_type": "code",
   "execution_count": 20,
   "metadata": {},
   "outputs": [
    {
     "data": {
      "text/plain": [
       "5.5511151231257827e-17"
      ]
     },
     "execution_count": 20,
     "metadata": {},
     "output_type": "execute_result"
    }
   ],
   "source": [
    "np.mean(X2[:,1])"
   ]
  },
  {
   "cell_type": "code",
   "execution_count": 21,
   "metadata": {},
   "outputs": [
    {
     "data": {
      "text/plain": [
       "1.0"
      ]
     },
     "execution_count": 21,
     "metadata": {},
     "output_type": "execute_result"
    }
   ],
   "source": [
    "np.std(X2[:,1])"
   ]
  },
  {
   "cell_type": "code",
   "execution_count": null,
   "metadata": {
    "collapsed": true
   },
   "outputs": [],
   "source": []
  }
 ],
 "metadata": {
  "kernelspec": {
   "display_name": "Python 3",
   "language": "python",
   "name": "python3"
  },
  "language_info": {
   "codemirror_mode": {
    "name": "ipython",
    "version": 3
   },
   "file_extension": ".py",
   "mimetype": "text/x-python",
   "name": "python",
   "nbconvert_exporter": "python",
   "pygments_lexer": "ipython3",
   "version": "3.6.1"
  }
 },
 "nbformat": 4,
 "nbformat_minor": 2
}
